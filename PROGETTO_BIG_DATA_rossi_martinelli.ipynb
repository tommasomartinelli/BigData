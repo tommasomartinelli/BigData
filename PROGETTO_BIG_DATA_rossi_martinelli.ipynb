{
 "cells": [
  {
   "cell_type": "code",
   "execution_count": 1,
   "id": "670586c8",
   "metadata": {},
   "outputs": [],
   "source": [
    "import ray\n",
    "import os\n",
    "import time\n",
    "from ray import tune\n",
    "from pyhdfs import HdfsClient\n",
    "import pandas as pd\n",
    "from sklearn.model_selection import train_test_split\n",
    "from xgboost_ray import RayXGBRFRegressor, RayParams\n",
    "from sklearn.preprocessing import StandardScaler\n",
    "import numpy as np\n",
    "from sklearn.model_selection import RandomizedSearchCV\n",
    "from sklearn.model_selection import GridSearchCV\n",
    "from sklearn.model_selection import KFold\n",
    "from sklearn.metrics import r2_score\n",
    "import pickle\n",
    "from sklearn.metrics import mean_squared_error\n",
    "from matplotlib import pyplot as plt"
   ]
  },
  {
   "cell_type": "code",
   "execution_count": 2,
   "id": "fffabaca",
   "metadata": {},
   "outputs": [
    {
     "name": "stderr",
     "output_type": "stream",
     "text": [
      "2022-11-23 22:36:59,117\tINFO worker.py:1519 -- Started a local Ray instance. View the dashboard at \u001b[1m\u001b[32m127.0.0.1:8265 \u001b[39m\u001b[22m\n"
     ]
    },
    {
     "data": {
      "text/html": [
       "<div>\n",
       "    <div style=\"margin-left: 50px;display: flex;flex-direction: row;align-items: center\">\n",
       "        <h3 style=\"color: var(--jp-ui-font-color0)\">Ray</h3>\n",
       "        <svg version=\"1.1\" id=\"ray\" width=\"3em\" viewBox=\"0 0 144.5 144.6\" style=\"margin-left: 3em;margin-right: 3em\">\n",
       "            <g id=\"layer-1\">\n",
       "                <path fill=\"#00a2e9\" class=\"st0\" d=\"M97.3,77.2c-3.8-1.1-6.2,0.9-8.3,5.1c-3.5,6.8-9.9,9.9-17.4,9.6S58,88.1,54.8,81.2c-1.4-3-3-4-6.3-4.1\n",
       "                    c-5.6-0.1-9.9,0.1-13.1,6.4c-3.8,7.6-13.6,10.2-21.8,7.6C5.2,88.4-0.4,80.5,0,71.7c0.1-8.4,5.7-15.8,13.8-18.2\n",
       "                    c8.4-2.6,17.5,0.7,22.3,8c1.3,1.9,1.3,5.2,3.6,5.6c3.9,0.6,8,0.2,12,0.2c1.8,0,1.9-1.6,2.4-2.8c3.5-7.8,9.7-11.8,18-11.9\n",
       "                    c8.2-0.1,14.4,3.9,17.8,11.4c1.3,2.8,2.9,3.6,5.7,3.3c1-0.1,2,0.1,3,0c2.8-0.5,6.4,1.7,8.1-2.7s-2.3-5.5-4.1-7.5\n",
       "                    c-5.1-5.7-10.9-10.8-16.1-16.3C84,38,81.9,37.1,78,38.3C66.7,42,56.2,35.7,53,24.1C50.3,14,57.3,2.8,67.7,0.5\n",
       "                    C78.4-2,89,4.7,91.5,15.3c0.1,0.3,0.1,0.5,0.2,0.8c0.7,3.4,0.7,6.9-0.8,9.8c-1.7,3.2-0.8,5,1.5,7.2c6.7,6.5,13.3,13,19.8,19.7\n",
       "                    c1.8,1.8,3,2.1,5.5,1.2c9.1-3.4,17.9-0.6,23.4,7c4.8,6.9,4.6,16.1-0.4,22.9c-5.4,7.2-14.2,9.9-23.1,6.5c-2.3-0.9-3.5-0.6-5.1,1.1\n",
       "                    c-6.7,6.9-13.6,13.7-20.5,20.4c-1.8,1.8-2.5,3.2-1.4,5.9c3.5,8.7,0.3,18.6-7.7,23.6c-7.9,5-18.2,3.8-24.8-2.9\n",
       "                    c-6.4-6.4-7.4-16.2-2.5-24.3c4.9-7.8,14.5-11,23.1-7.8c3,1.1,4.7,0.5,6.9-1.7C91.7,98.4,98,92.3,104.2,86c1.6-1.6,4.1-2.7,2.6-6.2\n",
       "                    c-1.4-3.3-3.8-2.5-6.2-2.6C99.8,77.2,98.9,77.2,97.3,77.2z M72.1,29.7c5.5,0.1,9.9-4.3,10-9.8c0-0.1,0-0.2,0-0.3\n",
       "                    C81.8,14,77,9.8,71.5,10.2c-5,0.3-9,4.2-9.3,9.2c-0.2,5.5,4,10.1,9.5,10.3C71.8,29.7,72,29.7,72.1,29.7z M72.3,62.3\n",
       "                    c-5.4-0.1-9.9,4.2-10.1,9.7c0,0.2,0,0.3,0,0.5c0.2,5.4,4.5,9.7,9.9,10c5.1,0.1,9.9-4.7,10.1-9.8c0.2-5.5-4-10-9.5-10.3\n",
       "                    C72.6,62.3,72.4,62.3,72.3,62.3z M115,72.5c0.1,5.4,4.5,9.7,9.8,9.9c5.6-0.2,10-4.8,10-10.4c-0.2-5.4-4.6-9.7-10-9.7\n",
       "                    c-5.3-0.1-9.8,4.2-9.9,9.5C115,72.1,115,72.3,115,72.5z M19.5,62.3c-5.4,0.1-9.8,4.4-10,9.8c-0.1,5.1,5.2,10.4,10.2,10.3\n",
       "                    c5.6-0.2,10-4.9,9.8-10.5c-0.1-5.4-4.5-9.7-9.9-9.6C19.6,62.3,19.5,62.3,19.5,62.3z M71.8,134.6c5.9,0.2,10.3-3.9,10.4-9.6\n",
       "                    c0.5-5.5-3.6-10.4-9.1-10.8c-5.5-0.5-10.4,3.6-10.8,9.1c0,0.5,0,0.9,0,1.4c-0.2,5.3,4,9.8,9.3,10\n",
       "                    C71.6,134.6,71.7,134.6,71.8,134.6z\"/>\n",
       "            </g>\n",
       "        </svg>\n",
       "        <table>\n",
       "            <tr>\n",
       "                <td style=\"text-align: left\"><b>Python version:</b></td>\n",
       "                <td style=\"text-align: left\"><b>3.10.6</b></td>\n",
       "            </tr>\n",
       "            <tr>\n",
       "                <td style=\"text-align: left\"><b>Ray version:</b></td>\n",
       "                <td style=\"text-align: left\"><b> 2.1.0</b></td>\n",
       "            </tr>\n",
       "            <tr>\n",
       "    <td style=\"text-align: left\"><b>Dashboard:</b></td>\n",
       "    <td style=\"text-align: left\"><b><a href=\"http://127.0.0.1:8265\" target=\"_blank\">http://127.0.0.1:8265</a></b></td>\n",
       "</tr>\n",
       "\n",
       "        </table>\n",
       "    </div>\n",
       "</div>\n"
      ],
      "text/plain": [
       "RayContext(dashboard_url='127.0.0.1:8265', python_version='3.10.6', ray_version='2.1.0', ray_commit='be49bde7ee4f6adb3f8710aee0665c27f9f0bb62', address_info={'node_ip_address': '10.0.2.15', 'raylet_ip_address': '10.0.2.15', 'redis_address': None, 'object_store_address': '/tmp/ray/session_2022-11-23_22-36-55_092321_9796/sockets/plasma_store', 'raylet_socket_name': '/tmp/ray/session_2022-11-23_22-36-55_092321_9796/sockets/raylet', 'webui_url': '127.0.0.1:8265', 'session_dir': '/tmp/ray/session_2022-11-23_22-36-55_092321_9796', 'metrics_export_port': 49908, 'gcs_address': '10.0.2.15:60431', 'address': '10.0.2.15:60431', 'dashboard_agent_listen_port': 52365, 'node_id': '8eac8c1ddfe2cfb086a5729c2c69d52eec41c7f5faa25cd104ebc332'})"
      ]
     },
     "execution_count": 2,
     "metadata": {},
     "output_type": "execute_result"
    }
   ],
   "source": [
    "ray.shutdown()\n",
    "ray.init()"
   ]
  },
  {
   "cell_type": "code",
   "execution_count": 3,
   "id": "c7487589",
   "metadata": {},
   "outputs": [],
   "source": [
    "nodes = [\"127.0.0.1\"]\n",
    "client = HdfsClient(hosts=nodes, user_name=\"bigdata2022-VirtualBox\")\n",
    "df=pd.read_csv(client.open(\"hdfs://localhost:9870/user/bigdata2022/datasets/big_data_project/taxi_dataset_EDA_reduct.csv\"))"
   ]
  },
  {
   "cell_type": "code",
   "execution_count": 4,
   "id": "fc36b697",
   "metadata": {},
   "outputs": [
    {
     "data": {
      "text/html": [
       "<div>\n",
       "<style scoped>\n",
       "    .dataframe tbody tr th:only-of-type {\n",
       "        vertical-align: middle;\n",
       "    }\n",
       "\n",
       "    .dataframe tbody tr th {\n",
       "        vertical-align: top;\n",
       "    }\n",
       "\n",
       "    .dataframe thead th {\n",
       "        text-align: right;\n",
       "    }\n",
       "</style>\n",
       "<table border=\"1\" class=\"dataframe\">\n",
       "  <thead>\n",
       "    <tr style=\"text-align: right;\">\n",
       "      <th></th>\n",
       "      <th>Unnamed: 0</th>\n",
       "      <th>vendor_id</th>\n",
       "      <th>passenger_count</th>\n",
       "      <th>pickup_longitude</th>\n",
       "      <th>pickup_latitude</th>\n",
       "      <th>dropoff_longitude</th>\n",
       "      <th>dropoff_latitude</th>\n",
       "      <th>trip_duration</th>\n",
       "      <th>pickup_month</th>\n",
       "      <th>dropoff_month</th>\n",
       "      <th>...</th>\n",
       "      <th>dropoff_day_Monday</th>\n",
       "      <th>dropoff_day_Saturday</th>\n",
       "      <th>dropoff_day_Sunday</th>\n",
       "      <th>dropoff_day_Thursday</th>\n",
       "      <th>dropoff_day_Tuesday</th>\n",
       "      <th>dropoff_day_Wednesday</th>\n",
       "      <th>store_and_fwd_flag_Y</th>\n",
       "      <th>pickup_timezone</th>\n",
       "      <th>dropoff_timezone</th>\n",
       "      <th>distance</th>\n",
       "    </tr>\n",
       "  </thead>\n",
       "  <tbody>\n",
       "    <tr>\n",
       "      <th>0</th>\n",
       "      <td>1457973</td>\n",
       "      <td>2</td>\n",
       "      <td>1</td>\n",
       "      <td>-73.984863</td>\n",
       "      <td>40.748692</td>\n",
       "      <td>-74.008369</td>\n",
       "      <td>40.736935</td>\n",
       "      <td>721</td>\n",
       "      <td>4</td>\n",
       "      <td>4</td>\n",
       "      <td>...</td>\n",
       "      <td>0</td>\n",
       "      <td>0</td>\n",
       "      <td>0</td>\n",
       "      <td>0</td>\n",
       "      <td>1</td>\n",
       "      <td>0</td>\n",
       "      <td>0</td>\n",
       "      <td>3</td>\n",
       "      <td>3</td>\n",
       "      <td>1.474873</td>\n",
       "    </tr>\n",
       "    <tr>\n",
       "      <th>1</th>\n",
       "      <td>1431240</td>\n",
       "      <td>2</td>\n",
       "      <td>1</td>\n",
       "      <td>-73.980560</td>\n",
       "      <td>40.747429</td>\n",
       "      <td>-74.031090</td>\n",
       "      <td>40.742519</td>\n",
       "      <td>946</td>\n",
       "      <td>4</td>\n",
       "      <td>4</td>\n",
       "      <td>...</td>\n",
       "      <td>0</td>\n",
       "      <td>0</td>\n",
       "      <td>0</td>\n",
       "      <td>0</td>\n",
       "      <td>0</td>\n",
       "      <td>1</td>\n",
       "      <td>0</td>\n",
       "      <td>3</td>\n",
       "      <td>3</td>\n",
       "      <td>2.667464</td>\n",
       "    </tr>\n",
       "    <tr>\n",
       "      <th>2</th>\n",
       "      <td>1440158</td>\n",
       "      <td>2</td>\n",
       "      <td>6</td>\n",
       "      <td>-73.984299</td>\n",
       "      <td>40.769943</td>\n",
       "      <td>-73.791130</td>\n",
       "      <td>40.644459</td>\n",
       "      <td>1816</td>\n",
       "      <td>5</td>\n",
       "      <td>5</td>\n",
       "      <td>...</td>\n",
       "      <td>0</td>\n",
       "      <td>0</td>\n",
       "      <td>0</td>\n",
       "      <td>0</td>\n",
       "      <td>0</td>\n",
       "      <td>0</td>\n",
       "      <td>0</td>\n",
       "      <td>1</td>\n",
       "      <td>1</td>\n",
       "      <td>13.327966</td>\n",
       "    </tr>\n",
       "    <tr>\n",
       "      <th>3</th>\n",
       "      <td>1456819</td>\n",
       "      <td>1</td>\n",
       "      <td>1</td>\n",
       "      <td>-73.990440</td>\n",
       "      <td>40.775364</td>\n",
       "      <td>-73.979240</td>\n",
       "      <td>40.774212</td>\n",
       "      <td>451</td>\n",
       "      <td>2</td>\n",
       "      <td>2</td>\n",
       "      <td>...</td>\n",
       "      <td>0</td>\n",
       "      <td>0</td>\n",
       "      <td>0</td>\n",
       "      <td>0</td>\n",
       "      <td>0</td>\n",
       "      <td>0</td>\n",
       "      <td>0</td>\n",
       "      <td>1</td>\n",
       "      <td>1</td>\n",
       "      <td>0.591565</td>\n",
       "    </tr>\n",
       "    <tr>\n",
       "      <th>4</th>\n",
       "      <td>1451682</td>\n",
       "      <td>2</td>\n",
       "      <td>1</td>\n",
       "      <td>-74.005150</td>\n",
       "      <td>40.719147</td>\n",
       "      <td>-73.987083</td>\n",
       "      <td>40.758945</td>\n",
       "      <td>2558</td>\n",
       "      <td>6</td>\n",
       "      <td>6</td>\n",
       "      <td>...</td>\n",
       "      <td>0</td>\n",
       "      <td>0</td>\n",
       "      <td>0</td>\n",
       "      <td>0</td>\n",
       "      <td>0</td>\n",
       "      <td>1</td>\n",
       "      <td>0</td>\n",
       "      <td>2</td>\n",
       "      <td>2</td>\n",
       "      <td>2.908757</td>\n",
       "    </tr>\n",
       "  </tbody>\n",
       "</table>\n",
       "<p>5 rows × 26 columns</p>\n",
       "</div>"
      ],
      "text/plain": [
       "   Unnamed: 0  vendor_id  passenger_count  pickup_longitude  pickup_latitude  \\\n",
       "0     1457973          2                1        -73.984863        40.748692   \n",
       "1     1431240          2                1        -73.980560        40.747429   \n",
       "2     1440158          2                6        -73.984299        40.769943   \n",
       "3     1456819          1                1        -73.990440        40.775364   \n",
       "4     1451682          2                1        -74.005150        40.719147   \n",
       "\n",
       "   dropoff_longitude  dropoff_latitude  trip_duration  pickup_month  \\\n",
       "0         -74.008369         40.736935            721             4   \n",
       "1         -74.031090         40.742519            946             4   \n",
       "2         -73.791130         40.644459           1816             5   \n",
       "3         -73.979240         40.774212            451             2   \n",
       "4         -73.987083         40.758945           2558             6   \n",
       "\n",
       "   dropoff_month  ...  dropoff_day_Monday  dropoff_day_Saturday  \\\n",
       "0              4  ...                   0                     0   \n",
       "1              4  ...                   0                     0   \n",
       "2              5  ...                   0                     0   \n",
       "3              2  ...                   0                     0   \n",
       "4              6  ...                   0                     0   \n",
       "\n",
       "   dropoff_day_Sunday  dropoff_day_Thursday  dropoff_day_Tuesday  \\\n",
       "0                   0                     0                    1   \n",
       "1                   0                     0                    0   \n",
       "2                   0                     0                    0   \n",
       "3                   0                     0                    0   \n",
       "4                   0                     0                    0   \n",
       "\n",
       "   dropoff_day_Wednesday  store_and_fwd_flag_Y  pickup_timezone  \\\n",
       "0                      0                     0                3   \n",
       "1                      1                     0                3   \n",
       "2                      0                     0                1   \n",
       "3                      0                     0                1   \n",
       "4                      1                     0                2   \n",
       "\n",
       "   dropoff_timezone   distance  \n",
       "0                 3   1.474873  \n",
       "1                 3   2.667464  \n",
       "2                 1  13.327966  \n",
       "3                 1   0.591565  \n",
       "4                 2   2.908757  \n",
       "\n",
       "[5 rows x 26 columns]"
      ]
     },
     "execution_count": 4,
     "metadata": {},
     "output_type": "execute_result"
    }
   ],
   "source": [
    "df.head()\n",
    "#seed=42"
   ]
  },
  {
   "cell_type": "code",
   "execution_count": 5,
   "id": "cce8d427",
   "metadata": {},
   "outputs": [],
   "source": [
    "#print(\"\\nDataset statistics:\\n\", df.describe())"
   ]
  },
  {
   "cell_type": "code",
   "execution_count": 6,
   "id": "cb8e9451",
   "metadata": {},
   "outputs": [
    {
     "name": "stdout",
     "output_type": "stream",
     "text": [
      "3419\n",
      "181\n"
     ]
    }
   ],
   "source": [
    "threshold_max=0.01\n",
    "threshold_min=0.05\n",
    "lower_threshold = df['trip_duration'].quantile(threshold_min)\n",
    "upper_threshold = df['trip_duration'].quantile(1 - threshold_max)\n",
    "\n",
    "df = df[(df['trip_duration'] >= lower_threshold) & (df['trip_duration'] <= upper_threshold)]\n",
    "\n",
    "print(df.trip_duration.max())\n",
    "print(df.trip_duration.min())"
   ]
  },
  {
   "cell_type": "code",
   "execution_count": 7,
   "id": "9710d7bf",
   "metadata": {},
   "outputs": [],
   "source": [
    "df = df[df.passenger_count <= 6]\n",
    "df = df[df.passenger_count != 0]"
   ]
  },
  {
   "cell_type": "code",
   "execution_count": 8,
   "id": "118f9c83",
   "metadata": {},
   "outputs": [],
   "source": [
    "df['trip_duration_hour'] = df['trip_duration'] / 60"
   ]
  },
  {
   "cell_type": "code",
   "execution_count": 9,
   "id": "9ed480b7",
   "metadata": {},
   "outputs": [],
   "source": [
    "X = df.drop(['trip_duration_hour','Unnamed: 0'], axis=1)\n",
    "t = df['trip_duration_hour']"
   ]
  },
  {
   "cell_type": "code",
   "execution_count": 10,
   "id": "a7dfdd61",
   "metadata": {},
   "outputs": [
    {
     "data": {
      "text/plain": [
       "(11751,)"
      ]
     },
     "execution_count": 10,
     "metadata": {},
     "output_type": "execute_result"
    }
   ],
   "source": [
    "X_train, X_test, t_train, t_test = train_test_split(X, t, train_size=0.75, random_state=5)\n",
    "X_train.shape\n",
    "X_test.shape\n",
    "t_train.shape\n",
    "t_test.shape"
   ]
  },
  {
   "cell_type": "code",
   "execution_count": 11,
   "id": "a700580d",
   "metadata": {},
   "outputs": [],
   "source": [
    "start_time=time.time()"
   ]
  },
  {
   "cell_type": "code",
   "execution_count": 12,
   "id": "aa9a06b4",
   "metadata": {},
   "outputs": [],
   "source": [
    "scaler = StandardScaler()\n",
    "X_train = scaler.fit_transform(X_train)\n",
    "X_test = scaler.transform(X_test)"
   ]
  },
  {
   "cell_type": "code",
   "execution_count": 13,
   "id": "78b734fc",
   "metadata": {},
   "outputs": [],
   "source": [
    "ray_param = RayParams(\n",
    "                      num_actors=4,\n",
    "                      cpus_per_actor=1\n",
    "                   ) "
   ]
  },
  {
   "cell_type": "code",
   "execution_count": 14,
   "id": "ea0641e7",
   "metadata": {},
   "outputs": [],
   "source": [
    "model = RayXGBRFRegressor(n_jobs=4, \n",
    "                          #random_state=5,\n",
    "                          max_depth= 3,\n",
    "                          min_child_weight= 0.3361,\n",
    "                          gamma= 14.96,\n",
    "                          learning_rate= 0.243,\n",
    "                          subsample= 0.53,\n",
    "                          colsample_bylevel= 1.0,\n",
    "                          colsample_bytree= 0.6099\n",
    "        )"
   ]
  },
  {
   "cell_type": "code",
   "execution_count": 15,
   "id": "2f4dffba",
   "metadata": {},
   "outputs": [],
   "source": [
    "#param_grid = {'max_depth': [3, 4, 5, 6, 7, 8, 9, 10, 11, 12],\n",
    " #             'min_child_weight': np.arange(0.0001, 0.5, 0.001),\n",
    "  #            'gamma': np.arange(0.0,40.0,0.005),\n",
    "   #           'learning_rate': np.arange(0.0005,0.3,0.0005),\n",
    "    #          'subsample': np.arange(0.01,1.0,0.01),\n",
    "     #         'colsample_bylevel': np.round(np.arange(0.1,1.0,0.01)),\n",
    "      #        'colsample_bytree': np.arange(0.1,1.0,0.01)\n",
    "       #      }   "
   ]
  },
  {
   "cell_type": "code",
   "execution_count": 16,
   "id": "9af97027",
   "metadata": {},
   "outputs": [],
   "source": [
    "#grid_search = RandomizedSearchCV(model, param_grid, cv=5, scoring=\"r2\")\n",
    "#grid_result = grid_search.fit(X_train,t_train)"
   ]
  },
  {
   "cell_type": "code",
   "execution_count": 17,
   "id": "b1ec2f64",
   "metadata": {},
   "outputs": [
    {
     "name": "stderr",
     "output_type": "stream",
     "text": [
      "/home/bigdata2022/.local/lib/python3.10/site-packages/xgboost_ray/sklearn.py:307: UserWarning: `ray_params` is not `None` and will override the `n_jobs` attribute.\n",
      "  warnings.warn(\"`ray_params` is not `None` and will override \"\n",
      "2022-11-23 22:37:03,701\tINFO main.py:1035 -- [RayXGBoost] Created 4 new actors (4 total actors). Waiting until actors are ready for training.\n",
      "2022-11-23 22:37:08,837\tINFO main.py:1080 -- [RayXGBoost] Starting XGBoost training.\n",
      "\u001b[2m\u001b[36m(_RemoteRayXGBoostActor pid=10135)\u001b[0m [22:37:09] task [xgboost.ray]:139963500692096 got new rank 0\n",
      "\u001b[2m\u001b[36m(_RemoteRayXGBoostActor pid=10136)\u001b[0m [22:37:09] task [xgboost.ray]:140681231549056 got new rank 1\n",
      "\u001b[2m\u001b[36m(_RemoteRayXGBoostActor pid=10184)\u001b[0m [22:37:09] task [xgboost.ray]:140364423529088 got new rank 2\n",
      "\u001b[2m\u001b[36m(_RemoteRayXGBoostActor pid=10210)\u001b[0m [22:37:09] task [xgboost.ray]:140169834234448 got new rank 3\n",
      "2022-11-23 22:37:17,174\tINFO main.py:1575 -- [RayXGBoost] Finished XGBoost training on training data with total N=35,252 in 14.35 seconds (8.24 pure XGBoost training time).\n"
     ]
    },
    {
     "data": {
      "text/html": [
       "<style>#sk-container-id-1 {color: black;background-color: white;}#sk-container-id-1 pre{padding: 0;}#sk-container-id-1 div.sk-toggleable {background-color: white;}#sk-container-id-1 label.sk-toggleable__label {cursor: pointer;display: block;width: 100%;margin-bottom: 0;padding: 0.3em;box-sizing: border-box;text-align: center;}#sk-container-id-1 label.sk-toggleable__label-arrow:before {content: \"▸\";float: left;margin-right: 0.25em;color: #696969;}#sk-container-id-1 label.sk-toggleable__label-arrow:hover:before {color: black;}#sk-container-id-1 div.sk-estimator:hover label.sk-toggleable__label-arrow:before {color: black;}#sk-container-id-1 div.sk-toggleable__content {max-height: 0;max-width: 0;overflow: hidden;text-align: left;background-color: #f0f8ff;}#sk-container-id-1 div.sk-toggleable__content pre {margin: 0.2em;color: black;border-radius: 0.25em;background-color: #f0f8ff;}#sk-container-id-1 input.sk-toggleable__control:checked~div.sk-toggleable__content {max-height: 200px;max-width: 100%;overflow: auto;}#sk-container-id-1 input.sk-toggleable__control:checked~label.sk-toggleable__label-arrow:before {content: \"▾\";}#sk-container-id-1 div.sk-estimator input.sk-toggleable__control:checked~label.sk-toggleable__label {background-color: #d4ebff;}#sk-container-id-1 div.sk-label input.sk-toggleable__control:checked~label.sk-toggleable__label {background-color: #d4ebff;}#sk-container-id-1 input.sk-hidden--visually {border: 0;clip: rect(1px 1px 1px 1px);clip: rect(1px, 1px, 1px, 1px);height: 1px;margin: -1px;overflow: hidden;padding: 0;position: absolute;width: 1px;}#sk-container-id-1 div.sk-estimator {font-family: monospace;background-color: #f0f8ff;border: 1px dotted black;border-radius: 0.25em;box-sizing: border-box;margin-bottom: 0.5em;}#sk-container-id-1 div.sk-estimator:hover {background-color: #d4ebff;}#sk-container-id-1 div.sk-parallel-item::after {content: \"\";width: 100%;border-bottom: 1px solid gray;flex-grow: 1;}#sk-container-id-1 div.sk-label:hover label.sk-toggleable__label {background-color: #d4ebff;}#sk-container-id-1 div.sk-serial::before {content: \"\";position: absolute;border-left: 1px solid gray;box-sizing: border-box;top: 0;bottom: 0;left: 50%;z-index: 0;}#sk-container-id-1 div.sk-serial {display: flex;flex-direction: column;align-items: center;background-color: white;padding-right: 0.2em;padding-left: 0.2em;position: relative;}#sk-container-id-1 div.sk-item {position: relative;z-index: 1;}#sk-container-id-1 div.sk-parallel {display: flex;align-items: stretch;justify-content: center;background-color: white;position: relative;}#sk-container-id-1 div.sk-item::before, #sk-container-id-1 div.sk-parallel-item::before {content: \"\";position: absolute;border-left: 1px solid gray;box-sizing: border-box;top: 0;bottom: 0;left: 50%;z-index: -1;}#sk-container-id-1 div.sk-parallel-item {display: flex;flex-direction: column;z-index: 1;position: relative;background-color: white;}#sk-container-id-1 div.sk-parallel-item:first-child::after {align-self: flex-end;width: 50%;}#sk-container-id-1 div.sk-parallel-item:last-child::after {align-self: flex-start;width: 50%;}#sk-container-id-1 div.sk-parallel-item:only-child::after {width: 0;}#sk-container-id-1 div.sk-dashed-wrapped {border: 1px dashed gray;margin: 0 0.4em 0.5em 0.4em;box-sizing: border-box;padding-bottom: 0.4em;background-color: white;}#sk-container-id-1 div.sk-label label {font-family: monospace;font-weight: bold;display: inline-block;line-height: 1.2em;}#sk-container-id-1 div.sk-label-container {text-align: center;}#sk-container-id-1 div.sk-container {/* jupyter's `normalize.less` sets `[hidden] { display: none; }` but bootstrap.min.css set `[hidden] { display: none !important; }` so we also need the `!important` here to be able to override the default hidden behavior on the sphinx rendered scikit-learn.org. See: https://github.com/scikit-learn/scikit-learn/issues/21755 */display: inline-block !important;position: relative;}#sk-container-id-1 div.sk-text-repr-fallback {display: none;}</style><div id=\"sk-container-id-1\" class=\"sk-top-container\"><div class=\"sk-text-repr-fallback\"><pre>RayXGBRFRegressor(base_score=0.5, booster=&#x27;gbtree&#x27;, callbacks=None,\n",
       "                  colsample_bylevel=1.0, colsample_bytree=0.6099,\n",
       "                  early_stopping_rounds=None, enable_categorical=False,\n",
       "                  eval_metric=None, feature_types=None, gamma=14.96, gpu_id=-1,\n",
       "                  grow_policy=&#x27;depthwise&#x27;, importance_type=None,\n",
       "                  interaction_constraints=&#x27;&#x27;, learning_rate=0.243, max_bin=256,\n",
       "                  max_cat_threshold=64, max_cat_to_onehot=4, max_delta_step=0,\n",
       "                  max_depth=3, max_leaves=0, min_child_weight=0.3361,\n",
       "                  missing=nan, monotone_constraints=&#x27;()&#x27;, n_estimators=100,\n",
       "                  n_jobs=4, num_parallel_tree=100, objective=&#x27;reg:squarederror&#x27;,\n",
       "                  predictor=&#x27;auto&#x27;, random_state=0, ...)</pre><b>In a Jupyter environment, please rerun this cell to show the HTML representation or trust the notebook. <br />On GitHub, the HTML representation is unable to render, please try loading this page with nbviewer.org.</b></div><div class=\"sk-container\" hidden><div class=\"sk-item\"><div class=\"sk-estimator sk-toggleable\"><input class=\"sk-toggleable__control sk-hidden--visually\" id=\"sk-estimator-id-1\" type=\"checkbox\" checked><label for=\"sk-estimator-id-1\" class=\"sk-toggleable__label sk-toggleable__label-arrow\">RayXGBRFRegressor</label><div class=\"sk-toggleable__content\"><pre>RayXGBRFRegressor(base_score=0.5, booster=&#x27;gbtree&#x27;, callbacks=None,\n",
       "                  colsample_bylevel=1.0, colsample_bytree=0.6099,\n",
       "                  early_stopping_rounds=None, enable_categorical=False,\n",
       "                  eval_metric=None, feature_types=None, gamma=14.96, gpu_id=-1,\n",
       "                  grow_policy=&#x27;depthwise&#x27;, importance_type=None,\n",
       "                  interaction_constraints=&#x27;&#x27;, learning_rate=0.243, max_bin=256,\n",
       "                  max_cat_threshold=64, max_cat_to_onehot=4, max_delta_step=0,\n",
       "                  max_depth=3, max_leaves=0, min_child_weight=0.3361,\n",
       "                  missing=nan, monotone_constraints=&#x27;()&#x27;, n_estimators=100,\n",
       "                  n_jobs=4, num_parallel_tree=100, objective=&#x27;reg:squarederror&#x27;,\n",
       "                  predictor=&#x27;auto&#x27;, random_state=0, ...)</pre></div></div></div></div></div>"
      ],
      "text/plain": [
       "RayXGBRFRegressor(base_score=0.5, booster='gbtree', callbacks=None,\n",
       "                  colsample_bylevel=1.0, colsample_bytree=0.6099,\n",
       "                  early_stopping_rounds=None, enable_categorical=False,\n",
       "                  eval_metric=None, feature_types=None, gamma=14.96, gpu_id=-1,\n",
       "                  grow_policy='depthwise', importance_type=None,\n",
       "                  interaction_constraints='', learning_rate=0.243, max_bin=256,\n",
       "                  max_cat_threshold=64, max_cat_to_onehot=4, max_delta_step=0,\n",
       "                  max_depth=3, max_leaves=0, min_child_weight=0.3361,\n",
       "                  missing=nan, monotone_constraints='()', n_estimators=100,\n",
       "                  n_jobs=4, num_parallel_tree=100, objective='reg:squarederror',\n",
       "                  predictor='auto', random_state=0, ...)"
      ]
     },
     "execution_count": 17,
     "metadata": {},
     "output_type": "execute_result"
    }
   ],
   "source": [
    "model.fit(X_train, t_train, ray_params=ray_param)"
   ]
  },
  {
   "cell_type": "code",
   "execution_count": 18,
   "id": "0ce63f1f",
   "metadata": {},
   "outputs": [
    {
     "name": "stdout",
     "output_type": "stream",
     "text": [
      "{'colsample_bynode': 0.8, 'learning_rate': 0.243, 'reg_lambda': 1e-05, 'subsample': 0.53, 'objective': 'reg:squarederror', 'base_score': 0.5, 'booster': 'gbtree', 'colsample_bylevel': 1.0, 'colsample_bytree': 0.6099, 'eval_metric': None, 'gamma': 14.96, 'gpu_id': -1, 'grow_policy': 'depthwise', 'interaction_constraints': '', 'max_bin': 256, 'max_cat_threshold': 64, 'max_cat_to_onehot': 4, 'max_delta_step': 0, 'max_depth': 3, 'max_leaves': 0, 'min_child_weight': 0.3361, 'monotone_constraints': '()', 'n_jobs': 4, 'num_parallel_tree': 100, 'predictor': 'auto', 'random_state': 0, 'reg_alpha': 0, 'sampling_method': 'uniform', 'scale_pos_weight': 1, 'tree_method': 'approx', 'validate_parameters': 1, 'verbosity': None}\n"
     ]
    }
   ],
   "source": [
    "params = model.get_xgb_params()\n",
    "print(params)"
   ]
  },
  {
   "cell_type": "code",
   "execution_count": 19,
   "id": "9eb4eb1b",
   "metadata": {},
   "outputs": [],
   "source": [
    "#model_saved='finalized_model.sav'\n",
    "#pickle.dump(model, open(model_saved, 'wb'))"
   ]
  },
  {
   "cell_type": "code",
   "execution_count": 20,
   "id": "6512e394",
   "metadata": {},
   "outputs": [
    {
     "name": "stderr",
     "output_type": "stream",
     "text": [
      "2022-11-23 22:37:17,650\tINFO main.py:1620 -- [RayXGBoost] Created 4 remote actors.\n",
      "2022-11-23 22:37:22,654\tINFO main.py:1637 -- [RayXGBoost] Starting XGBoost prediction.\n"
     ]
    },
    {
     "name": "stdout",
     "output_type": "stream",
     "text": [
      "[5.77486   5.77486   3.6528783 ... 7.6754756 7.697772  2.86771  ]\n",
      "11739    32.916667\n",
      "17517    19.166667\n",
      "28122     7.983333\n",
      "14469    15.850000\n",
      "12608    20.350000\n",
      "           ...    \n",
      "31387     6.333333\n",
      "10330     5.966667\n",
      "31828    18.733333\n",
      "26956    16.300000\n",
      "14812     9.966667\n",
      "Name: trip_duration_hour, Length: 11751, dtype: float64\n"
     ]
    }
   ],
   "source": [
    "pred_ray = model.predict(X_test)\n",
    "print(pred_ray)\n",
    "print(t_test)"
   ]
  },
  {
   "cell_type": "code",
   "execution_count": 21,
   "id": "4aa3e579",
   "metadata": {},
   "outputs": [
    {
     "name": "stdout",
     "output_type": "stream",
     "text": [
      "173.1319347234599\n",
      "-0.9361679054148773\n"
     ]
    }
   ],
   "source": [
    "MSE=mean_squared_error(t_test, pred_ray)\n",
    "print(MSE)\n",
    "R2=r2_score(t_test, pred_ray)\n",
    "print(R2)"
   ]
  },
  {
   "cell_type": "code",
   "execution_count": 22,
   "id": "d37bb8f7",
   "metadata": {},
   "outputs": [
    {
     "name": "stdout",
     "output_type": "stream",
     "text": [
      "20.69395351409912\n"
     ]
    }
   ],
   "source": [
    "print(time.time()-start_time)"
   ]
  },
  {
   "cell_type": "code",
   "execution_count": 23,
   "id": "4a5b74f4",
   "metadata": {},
   "outputs": [
    {
     "data": {
      "image/png": "[encoded data removed]",
      "text/plain": [
       "<Figure size 640x480 with 1 Axes>"
      ]
     },
     "metadata": {},
     "output_type": "display_data"
    }
   ],
   "source": [
    "plt.figure('Predictions')\n",
    "plt.title('Predictions')\n",
    "plt.plot(pred_ray, color='g', label='pred')\n",
    "plt.plot(t_test, color='r', label='t')\n",
    "plt.legend()\n",
    "plt.show()"
   ]
  },
  {
   "cell_type": "code",
   "execution_count": null,
   "id": "f3068de5",
   "metadata": {},
   "outputs": [],
   "source": []
  }
 ],
 "metadata": {
  "kernelspec": {
   "display_name": "Python 3 (ipykernel)",
   "language": "python",
   "name": "python3"
  },
  "language_info": {
   "codemirror_mode": {
    "name": "ipython",
    "version": 3
   },
   "file_extension": ".py",
   "mimetype": "text/x-python",
   "name": "python",
   "nbconvert_exporter": "python",
   "pygments_lexer": "ipython3",
   "version": "3.10.6"
  }
 },
 "nbformat": 4,
 "nbformat_minor": 5
}
