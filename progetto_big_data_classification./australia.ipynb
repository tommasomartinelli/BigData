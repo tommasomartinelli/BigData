{
 "cells": [
  {
   "cell_type": "code",
   "execution_count": 24,
   "id": "f9796dac",
   "metadata": {},
   "outputs": [
    {
     "name": "stderr",
     "output_type": "stream",
     "text": [
      "2022-11-24 12:42:44,397\tINFO worker.py:1519 -- Started a local Ray instance. View the dashboard at \u001b[1m\u001b[32m127.0.0.1:8265 \u001b[39m\u001b[22m\n"
     ]
    },
    {
     "data": {
      "text/html": [
       "<div>\n",
       "    <div style=\"margin-left: 50px;display: flex;flex-direction: row;align-items: center\">\n",
       "        <h3 style=\"color: var(--jp-ui-font-color0)\">Ray</h3>\n",
       "        <svg version=\"1.1\" id=\"ray\" width=\"3em\" viewBox=\"0 0 144.5 144.6\" style=\"margin-left: 3em;margin-right: 3em\">\n",
       "            <g id=\"layer-1\">\n",
       "                <path fill=\"#00a2e9\" class=\"st0\" d=\"M97.3,77.2c-3.8-1.1-6.2,0.9-8.3,5.1c-3.5,6.8-9.9,9.9-17.4,9.6S58,88.1,54.8,81.2c-1.4-3-3-4-6.3-4.1\n",
       "                    c-5.6-0.1-9.9,0.1-13.1,6.4c-3.8,7.6-13.6,10.2-21.8,7.6C5.2,88.4-0.4,80.5,0,71.7c0.1-8.4,5.7-15.8,13.8-18.2\n",
       "                    c8.4-2.6,17.5,0.7,22.3,8c1.3,1.9,1.3,5.2,3.6,5.6c3.9,0.6,8,0.2,12,0.2c1.8,0,1.9-1.6,2.4-2.8c3.5-7.8,9.7-11.8,18-11.9\n",
       "                    c8.2-0.1,14.4,3.9,17.8,11.4c1.3,2.8,2.9,3.6,5.7,3.3c1-0.1,2,0.1,3,0c2.8-0.5,6.4,1.7,8.1-2.7s-2.3-5.5-4.1-7.5\n",
       "                    c-5.1-5.7-10.9-10.8-16.1-16.3C84,38,81.9,37.1,78,38.3C66.7,42,56.2,35.7,53,24.1C50.3,14,57.3,2.8,67.7,0.5\n",
       "                    C78.4-2,89,4.7,91.5,15.3c0.1,0.3,0.1,0.5,0.2,0.8c0.7,3.4,0.7,6.9-0.8,9.8c-1.7,3.2-0.8,5,1.5,7.2c6.7,6.5,13.3,13,19.8,19.7\n",
       "                    c1.8,1.8,3,2.1,5.5,1.2c9.1-3.4,17.9-0.6,23.4,7c4.8,6.9,4.6,16.1-0.4,22.9c-5.4,7.2-14.2,9.9-23.1,6.5c-2.3-0.9-3.5-0.6-5.1,1.1\n",
       "                    c-6.7,6.9-13.6,13.7-20.5,20.4c-1.8,1.8-2.5,3.2-1.4,5.9c3.5,8.7,0.3,18.6-7.7,23.6c-7.9,5-18.2,3.8-24.8-2.9\n",
       "                    c-6.4-6.4-7.4-16.2-2.5-24.3c4.9-7.8,14.5-11,23.1-7.8c3,1.1,4.7,0.5,6.9-1.7C91.7,98.4,98,92.3,104.2,86c1.6-1.6,4.1-2.7,2.6-6.2\n",
       "                    c-1.4-3.3-3.8-2.5-6.2-2.6C99.8,77.2,98.9,77.2,97.3,77.2z M72.1,29.7c5.5,0.1,9.9-4.3,10-9.8c0-0.1,0-0.2,0-0.3\n",
       "                    C81.8,14,77,9.8,71.5,10.2c-5,0.3-9,4.2-9.3,9.2c-0.2,5.5,4,10.1,9.5,10.3C71.8,29.7,72,29.7,72.1,29.7z M72.3,62.3\n",
       "                    c-5.4-0.1-9.9,4.2-10.1,9.7c0,0.2,0,0.3,0,0.5c0.2,5.4,4.5,9.7,9.9,10c5.1,0.1,9.9-4.7,10.1-9.8c0.2-5.5-4-10-9.5-10.3\n",
       "                    C72.6,62.3,72.4,62.3,72.3,62.3z M115,72.5c0.1,5.4,4.5,9.7,9.8,9.9c5.6-0.2,10-4.8,10-10.4c-0.2-5.4-4.6-9.7-10-9.7\n",
       "                    c-5.3-0.1-9.8,4.2-9.9,9.5C115,72.1,115,72.3,115,72.5z M19.5,62.3c-5.4,0.1-9.8,4.4-10,9.8c-0.1,5.1,5.2,10.4,10.2,10.3\n",
       "                    c5.6-0.2,10-4.9,9.8-10.5c-0.1-5.4-4.5-9.7-9.9-9.6C19.6,62.3,19.5,62.3,19.5,62.3z M71.8,134.6c5.9,0.2,10.3-3.9,10.4-9.6\n",
       "                    c0.5-5.5-3.6-10.4-9.1-10.8c-5.5-0.5-10.4,3.6-10.8,9.1c0,0.5,0,0.9,0,1.4c-0.2,5.3,4,9.8,9.3,10\n",
       "                    C71.6,134.6,71.7,134.6,71.8,134.6z\"/>\n",
       "            </g>\n",
       "        </svg>\n",
       "        <table>\n",
       "            <tr>\n",
       "                <td style=\"text-align: left\"><b>Python version:</b></td>\n",
       "                <td style=\"text-align: left\"><b>3.10.6</b></td>\n",
       "            </tr>\n",
       "            <tr>\n",
       "                <td style=\"text-align: left\"><b>Ray version:</b></td>\n",
       "                <td style=\"text-align: left\"><b> 2.1.0</b></td>\n",
       "            </tr>\n",
       "            <tr>\n",
       "    <td style=\"text-align: left\"><b>Dashboard:</b></td>\n",
       "    <td style=\"text-align: left\"><b><a href=\"http://127.0.0.1:8265\" target=\"_blank\">http://127.0.0.1:8265</a></b></td>\n",
       "</tr>\n",
       "\n",
       "        </table>\n",
       "    </div>\n",
       "</div>\n"
      ],
      "text/plain": [
       "RayContext(dashboard_url='127.0.0.1:8265', python_version='3.10.6', ray_version='2.1.0', ray_commit='be49bde7ee4f6adb3f8710aee0665c27f9f0bb62', address_info={'node_ip_address': '10.0.2.15', 'raylet_ip_address': '10.0.2.15', 'redis_address': None, 'object_store_address': '/tmp/ray/session_2022-11-24_12-42-38_716209_6442/sockets/plasma_store', 'raylet_socket_name': '/tmp/ray/session_2022-11-24_12-42-38_716209_6442/sockets/raylet', 'webui_url': '127.0.0.1:8265', 'session_dir': '/tmp/ray/session_2022-11-24_12-42-38_716209_6442', 'metrics_export_port': 63135, 'gcs_address': '10.0.2.15:60890', 'address': '10.0.2.15:60890', 'dashboard_agent_listen_port': 52365, 'node_id': '72b60f9696122e8fae6ae63a68e4cf4266e9c56f4831757e73535af8'})"
      ]
     },
     "execution_count": 24,
     "metadata": {},
     "output_type": "execute_result"
    }
   ],
   "source": [
    "import ray\n",
    "import os\n",
    "import time\n",
    "from ray import tune\n",
    "from pyhdfs import HdfsClient\n",
    "import pandas as pd\n",
    "from sklearn.model_selection import train_test_split\n",
    "from xgboost_ray import RayDMatrix, RayParams, train, RayXGBClassifier\n",
    "from sklearn.preprocessing import MinMaxScaler, StandardScaler\n",
    "import numpy as np\n",
    "from sklearn.model_selection import RandomizedSearchCV\n",
    "from sklearn.model_selection import GridSearchCV\n",
    "from sklearn.model_selection import KFold\n",
    "from sklearn.metrics import r2_score\n",
    "from sklearn.linear_model import LinearRegression\n",
    "import pickle\n",
    "from sklearn.metrics import mean_squared_error\n",
    "from sklearn.metrics import accuracy_score, confusion_matrix, recall_score, roc_auc_score, precision_score, f1_score, classification_report\n",
    "\n",
    "ray.shutdown()\n",
    "ray.init()"
   ]
  },
  {
   "cell_type": "code",
   "execution_count": 9,
   "id": "da34ffb9",
   "metadata": {},
   "outputs": [],
   "source": [
    "nodes = [\"127.0.0.1\"]\n",
    "client = HdfsClient(hosts=nodes, user_name=\"bigdata2022-VirtualBox\")\n",
    "df=pd.read_csv(client.open(\"hdfs://localhost:9870/user/bigdata2022/datasets/Australia1.csv\"))"
   ]
  },
  {
   "cell_type": "code",
   "execution_count": 11,
   "id": "e99fd0dd",
   "metadata": {},
   "outputs": [
    {
     "name": "stdout",
     "output_type": "stream",
     "text": [
      "   MinTemp  MaxTemp  Rainfall  Evaporation  Sunshine  WindGustSpeed  \\\n",
      "0     13.4     22.9       0.6     5.472516       8.5           44.0   \n",
      "1      7.4     25.1       0.0     5.472516       8.5           44.0   \n",
      "2     12.9     25.7       0.0     5.472516       8.5           46.0   \n",
      "3      9.2     28.0       0.0     5.472516       8.5           24.0   \n",
      "4     17.5     32.3       1.0     5.472516       8.5           41.0   \n",
      "\n",
      "   WindSpeed9am  WindSpeed3pm  Humidity9am  Humidity3pm  ...  WindDir3pm_NNW  \\\n",
      "0          20.0          24.0         71.0         22.0  ...               0   \n",
      "1           4.0          22.0         44.0         25.0  ...               0   \n",
      "2          19.0          26.0         38.0         30.0  ...               0   \n",
      "3          11.0           9.0         45.0         16.0  ...               0   \n",
      "4           7.0          20.0         82.0         33.0  ...               0   \n",
      "\n",
      "   WindDir3pm_NW  WindDir3pm_S  WindDir3pm_SE  WindDir3pm_SSE  WindDir3pm_SSW  \\\n",
      "0              0             0              0               0               0   \n",
      "1              0             0              0               0               0   \n",
      "2              0             0              0               0               0   \n",
      "3              0             0              0               0               0   \n",
      "4              1             0              0               0               0   \n",
      "\n",
      "   WindDir3pm_SW  WindDir3pm_W  WindDir3pm_WNW  WindDir3pm_WSW  \n",
      "0              0             0               1               0  \n",
      "1              0             0               0               1  \n",
      "2              0             0               0               1  \n",
      "3              0             0               0               0  \n",
      "4              0             0               0               0  \n",
      "\n",
      "[5 rows x 94 columns]\n"
     ]
    }
   ],
   "source": [
    "print(df.head())\n",
    "seed=42"
   ]
  },
  {
   "cell_type": "code",
   "execution_count": 12,
   "id": "d15a02f4",
   "metadata": {},
   "outputs": [],
   "source": [
    "X = df.drop(['RainTomorrow'], axis=1)\n",
    "t = df['RainTomorrow']"
   ]
  },
  {
   "cell_type": "code",
   "execution_count": 13,
   "id": "0c0be72e",
   "metadata": {},
   "outputs": [
    {
     "name": "stdout",
     "output_type": "stream",
     "text": [
      "84973     0.0\n",
      "72501     1.0\n",
      "1059      1.0\n",
      "48974     0.0\n",
      "111248    0.0\n",
      "Name: RainTomorrow, dtype: float64\n"
     ]
    }
   ],
   "source": [
    "X_train, X_test, t_train, t_test = train_test_split(X, t, train_size=0.75)\n",
    "print(t_test.head())"
   ]
  },
  {
   "cell_type": "code",
   "execution_count": 14,
   "id": "49b0d79f",
   "metadata": {},
   "outputs": [],
   "source": [
    "start_time=time.time()"
   ]
  },
  {
   "cell_type": "code",
   "execution_count": 15,
   "id": "fccf5d08",
   "metadata": {},
   "outputs": [],
   "source": [
    "scaler = MinMaxScaler()\n",
    "X_train = scaler.fit_transform(X_train)\n",
    "X_test = scaler.transform(X_test)"
   ]
  },
  {
   "cell_type": "code",
   "execution_count": 19,
   "id": "d255f07d",
   "metadata": {},
   "outputs": [],
   "source": [
    "model = RayXGBClassifier(n_jobs=4,random_state=seed)"
   ]
  },
  {
   "cell_type": "code",
   "execution_count": 20,
   "id": "176bdead",
   "metadata": {},
   "outputs": [
    {
     "name": "stderr",
     "output_type": "stream",
     "text": [
      "2022-11-24 12:38:38,631\tINFO main.py:1035 -- [RayXGBoost] Created 4 new actors (4 total actors). Waiting until actors are ready for training.\n",
      "2022-11-24 12:38:49,045\tINFO main.py:1080 -- [RayXGBoost] Starting XGBoost training.\n",
      "\u001b[2m\u001b[36m(_RemoteRayXGBoostActor pid=10105)\u001b[0m [12:38:50] task [xgboost.ray]:139797684964224 got new rank 0\n",
      "\u001b[2m\u001b[36m(_RemoteRayXGBoostActor pid=10106)\u001b[0m [12:38:50] task [xgboost.ray]:140430396887952 got new rank 1\n",
      "\u001b[2m\u001b[36m(_RemoteRayXGBoostActor pid=10158)\u001b[0m [12:38:50] task [xgboost.ray]:139965277817776 got new rank 2\n",
      "\u001b[2m\u001b[36m(_RemoteRayXGBoostActor pid=10180)\u001b[0m [12:38:50] task [xgboost.ray]:140630279555968 got new rank 3\n",
      "2022-11-24 12:39:16,677\tINFO main.py:1575 -- [RayXGBoost] Finished XGBoost training on training data with total N=104,904 in 39.04 seconds (27.59 pure XGBoost training time).\n"
     ]
    },
    {
     "data": {
      "text/html": [
       "<style>#sk-container-id-1 {color: black;background-color: white;}#sk-container-id-1 pre{padding: 0;}#sk-container-id-1 div.sk-toggleable {background-color: white;}#sk-container-id-1 label.sk-toggleable__label {cursor: pointer;display: block;width: 100%;margin-bottom: 0;padding: 0.3em;box-sizing: border-box;text-align: center;}#sk-container-id-1 label.sk-toggleable__label-arrow:before {content: \"▸\";float: left;margin-right: 0.25em;color: #696969;}#sk-container-id-1 label.sk-toggleable__label-arrow:hover:before {color: black;}#sk-container-id-1 div.sk-estimator:hover label.sk-toggleable__label-arrow:before {color: black;}#sk-container-id-1 div.sk-toggleable__content {max-height: 0;max-width: 0;overflow: hidden;text-align: left;background-color: #f0f8ff;}#sk-container-id-1 div.sk-toggleable__content pre {margin: 0.2em;color: black;border-radius: 0.25em;background-color: #f0f8ff;}#sk-container-id-1 input.sk-toggleable__control:checked~div.sk-toggleable__content {max-height: 200px;max-width: 100%;overflow: auto;}#sk-container-id-1 input.sk-toggleable__control:checked~label.sk-toggleable__label-arrow:before {content: \"▾\";}#sk-container-id-1 div.sk-estimator input.sk-toggleable__control:checked~label.sk-toggleable__label {background-color: #d4ebff;}#sk-container-id-1 div.sk-label input.sk-toggleable__control:checked~label.sk-toggleable__label {background-color: #d4ebff;}#sk-container-id-1 input.sk-hidden--visually {border: 0;clip: rect(1px 1px 1px 1px);clip: rect(1px, 1px, 1px, 1px);height: 1px;margin: -1px;overflow: hidden;padding: 0;position: absolute;width: 1px;}#sk-container-id-1 div.sk-estimator {font-family: monospace;background-color: #f0f8ff;border: 1px dotted black;border-radius: 0.25em;box-sizing: border-box;margin-bottom: 0.5em;}#sk-container-id-1 div.sk-estimator:hover {background-color: #d4ebff;}#sk-container-id-1 div.sk-parallel-item::after {content: \"\";width: 100%;border-bottom: 1px solid gray;flex-grow: 1;}#sk-container-id-1 div.sk-label:hover label.sk-toggleable__label {background-color: #d4ebff;}#sk-container-id-1 div.sk-serial::before {content: \"\";position: absolute;border-left: 1px solid gray;box-sizing: border-box;top: 0;bottom: 0;left: 50%;z-index: 0;}#sk-container-id-1 div.sk-serial {display: flex;flex-direction: column;align-items: center;background-color: white;padding-right: 0.2em;padding-left: 0.2em;position: relative;}#sk-container-id-1 div.sk-item {position: relative;z-index: 1;}#sk-container-id-1 div.sk-parallel {display: flex;align-items: stretch;justify-content: center;background-color: white;position: relative;}#sk-container-id-1 div.sk-item::before, #sk-container-id-1 div.sk-parallel-item::before {content: \"\";position: absolute;border-left: 1px solid gray;box-sizing: border-box;top: 0;bottom: 0;left: 50%;z-index: -1;}#sk-container-id-1 div.sk-parallel-item {display: flex;flex-direction: column;z-index: 1;position: relative;background-color: white;}#sk-container-id-1 div.sk-parallel-item:first-child::after {align-self: flex-end;width: 50%;}#sk-container-id-1 div.sk-parallel-item:last-child::after {align-self: flex-start;width: 50%;}#sk-container-id-1 div.sk-parallel-item:only-child::after {width: 0;}#sk-container-id-1 div.sk-dashed-wrapped {border: 1px dashed gray;margin: 0 0.4em 0.5em 0.4em;box-sizing: border-box;padding-bottom: 0.4em;background-color: white;}#sk-container-id-1 div.sk-label label {font-family: monospace;font-weight: bold;display: inline-block;line-height: 1.2em;}#sk-container-id-1 div.sk-label-container {text-align: center;}#sk-container-id-1 div.sk-container {/* jupyter's `normalize.less` sets `[hidden] { display: none; }` but bootstrap.min.css set `[hidden] { display: none !important; }` so we also need the `!important` here to be able to override the default hidden behavior on the sphinx rendered scikit-learn.org. See: https://github.com/scikit-learn/scikit-learn/issues/21755 */display: inline-block !important;position: relative;}#sk-container-id-1 div.sk-text-repr-fallback {display: none;}</style><div id=\"sk-container-id-1\" class=\"sk-top-container\"><div class=\"sk-text-repr-fallback\"><pre>RayXGBClassifier(base_score=0.5, booster=&#x27;gbtree&#x27;, callbacks=None,\n",
       "                 colsample_bylevel=1, colsample_bynode=1, colsample_bytree=1,\n",
       "                 early_stopping_rounds=None, enable_categorical=False,\n",
       "                 eval_metric=None, feature_types=None, gamma=0, gpu_id=-1,\n",
       "                 grow_policy=&#x27;depthwise&#x27;, importance_type=None,\n",
       "                 interaction_constraints=&#x27;&#x27;, learning_rate=0.300000012,\n",
       "                 max_bin=256, max_cat_threshold=64, max_cat_to_onehot=4,\n",
       "                 max_delta_step=0, max_depth=6, max_leaves=0,\n",
       "                 min_child_weight=1, missing=nan, monotone_constraints=&#x27;()&#x27;,\n",
       "                 n_estimators=100, n_jobs=4, num_parallel_tree=1,\n",
       "                 predictor=&#x27;auto&#x27;, random_state=42, ...)</pre><b>In a Jupyter environment, please rerun this cell to show the HTML representation or trust the notebook. <br />On GitHub, the HTML representation is unable to render, please try loading this page with nbviewer.org.</b></div><div class=\"sk-container\" hidden><div class=\"sk-item\"><div class=\"sk-estimator sk-toggleable\"><input class=\"sk-toggleable__control sk-hidden--visually\" id=\"sk-estimator-id-1\" type=\"checkbox\" checked><label for=\"sk-estimator-id-1\" class=\"sk-toggleable__label sk-toggleable__label-arrow\">RayXGBClassifier</label><div class=\"sk-toggleable__content\"><pre>RayXGBClassifier(base_score=0.5, booster=&#x27;gbtree&#x27;, callbacks=None,\n",
       "                 colsample_bylevel=1, colsample_bynode=1, colsample_bytree=1,\n",
       "                 early_stopping_rounds=None, enable_categorical=False,\n",
       "                 eval_metric=None, feature_types=None, gamma=0, gpu_id=-1,\n",
       "                 grow_policy=&#x27;depthwise&#x27;, importance_type=None,\n",
       "                 interaction_constraints=&#x27;&#x27;, learning_rate=0.300000012,\n",
       "                 max_bin=256, max_cat_threshold=64, max_cat_to_onehot=4,\n",
       "                 max_delta_step=0, max_depth=6, max_leaves=0,\n",
       "                 min_child_weight=1, missing=nan, monotone_constraints=&#x27;()&#x27;,\n",
       "                 n_estimators=100, n_jobs=4, num_parallel_tree=1,\n",
       "                 predictor=&#x27;auto&#x27;, random_state=42, ...)</pre></div></div></div></div></div>"
      ],
      "text/plain": [
       "RayXGBClassifier(base_score=0.5, booster='gbtree', callbacks=None,\n",
       "                 colsample_bylevel=1, colsample_bynode=1, colsample_bytree=1,\n",
       "                 early_stopping_rounds=None, enable_categorical=False,\n",
       "                 eval_metric=None, feature_types=None, gamma=0, gpu_id=-1,\n",
       "                 grow_policy='depthwise', importance_type=None,\n",
       "                 interaction_constraints='', learning_rate=0.300000012,\n",
       "                 max_bin=256, max_cat_threshold=64, max_cat_to_onehot=4,\n",
       "                 max_delta_step=0, max_depth=6, max_leaves=0,\n",
       "                 min_child_weight=1, missing=nan, monotone_constraints='()',\n",
       "                 n_estimators=100, n_jobs=4, num_parallel_tree=1,\n",
       "                 predictor='auto', random_state=42, ...)"
      ]
     },
     "execution_count": 20,
     "metadata": {},
     "output_type": "execute_result"
    }
   ],
   "source": [
    "model.fit(X_train,t_train)"
   ]
  },
  {
   "cell_type": "code",
   "execution_count": 21,
   "id": "9f5dd2d6",
   "metadata": {},
   "outputs": [
    {
     "name": "stderr",
     "output_type": "stream",
     "text": [
      "2022-11-24 12:39:54,602\tINFO main.py:1620 -- [RayXGBoost] Created 4 remote actors.\n",
      "2022-11-24 12:40:00,768\tINFO main.py:1637 -- [RayXGBoost] Starting XGBoost prediction.\n"
     ]
    },
    {
     "name": "stdout",
     "output_type": "stream",
     "text": [
      "[0 1 1 ... 0 0 0]\n"
     ]
    }
   ],
   "source": [
    "pred_ray = model.predict(X_test)\n",
    "print(pred_ray)"
   ]
  },
  {
   "cell_type": "code",
   "execution_count": 23,
   "id": "338975d7",
   "metadata": {},
   "outputs": [
    {
     "name": "stderr",
     "output_type": "stream",
     "text": [
      "2022-11-24 12:40:25,572\tINFO main.py:1620 -- [RayXGBoost] Created 4 remote actors.\n",
      "2022-11-24 12:40:31,047\tINFO main.py:1637 -- [RayXGBoost] Starting XGBoost prediction.\n"
     ]
    },
    {
     "name": "stdout",
     "output_type": "stream",
     "text": [
      "[[0.7840189  0.21598114]\n",
      " [0.28433394 0.71566606]\n",
      " [0.02068979 0.9793102 ]\n",
      " ...\n",
      " [0.8048259  0.1951741 ]\n",
      " [0.8512474  0.14875264]\n",
      " [0.9733881  0.02661194]]\n"
     ]
    }
   ],
   "source": [
    "pred_proba_ray = model.predict_proba(X_test)\n",
    "print(pred_proba_ray)"
   ]
  },
  {
   "cell_type": "code",
   "execution_count": 25,
   "id": "faf57567",
   "metadata": {},
   "outputs": [
    {
     "name": "stdout",
     "output_type": "stream",
     "text": [
      "Test-set accuracy score: 0.8611\n"
     ]
    }
   ],
   "source": [
    "print('Test-set accuracy score: {0:0.4f}'. format(accuracy_score(t_test, pred_ray)))"
   ]
  },
  {
   "cell_type": "code",
   "execution_count": 28,
   "id": "dd72e479",
   "metadata": {},
   "outputs": [
    {
     "name": "stdout",
     "output_type": "stream",
     "text": [
      "              precision    recall  f1-score   support\n",
      "\n",
      "         0.0       0.88      0.95      0.91     27266\n",
      "         1.0       0.75      0.56      0.64      7702\n",
      "\n",
      "    accuracy                           0.86     34968\n",
      "   macro avg       0.82      0.75      0.78     34968\n",
      "weighted avg       0.85      0.86      0.85     34968\n",
      "\n"
     ]
    }
   ],
   "source": [
    "print(classification_report(t_test,pred_ray))"
   ]
  },
  {
   "cell_type": "code",
   "execution_count": 31,
   "id": "7347016e",
   "metadata": {},
   "outputs": [
    {
     "name": "stdout",
     "output_type": "stream",
     "text": [
      "\n",
      "True Positives(TP) =  25829\n",
      "\n",
      "True Negatives(TN) =  4283\n",
      "\n",
      "False Positives(FP) =  1437\n",
      "\n",
      "False Negatives(FN) =  3419\n"
     ]
    },
    {
     "name": "stderr",
     "output_type": "stream",
     "text": [
      "2022-11-24 13:45:54,685\tWARNING worker.py:1839 -- Raylet is terminated: ip=10.0.2.15, id=72b60f9696122e8fae6ae63a68e4cf4266e9c56f4831757e73535af8. Termination is unexpected. Possible reasons include: (1) SIGKILL by the user or system OOM killer, (2) Invalid memory access from Raylet causing SIGSEGV or SIGBUS, (3) Other termination signals. Last 20 lines of the Raylet logs:\n",
      "    [state-dump] \tNodeManager.deadline_timer.print_event_loop_stats - 23 total (1 active, 1 running), CPU time: mean = 5.835 ms, total = 134.214 ms\n",
      "    [state-dump] \tCoreWorkerService.grpc_client.LocalGC - 10 total (0 active), CPU time: mean = 28.367 us, total = 283.672 us\n",
      "    [state-dump] \tPeriodicalRunner.RunFnPeriodically - 8 total (0 active), CPU time: mean = 856.358 us, total = 6.851 ms\n",
      "    [state-dump] \tNodeManagerService.grpc_server.GetSystemConfig - 5 total (0 active), CPU time: mean = 126.824 us, total = 634.121 us\n",
      "    [state-dump] \tObjectManager.ObjectAdded - 5 total (0 active), CPU time: mean = 12.413 us, total = 62.063 us\n",
      "    [state-dump] \tObjectManager.ObjectDeleted - 5 total (0 active), CPU time: mean = 21.762 us, total = 108.809 us\n",
      "    [state-dump] \tClientConnection.async_write.DoAsyncWrites - 5 total (0 active), CPU time: mean = 1.084 us, total = 5.419 us\n",
      "    [state-dump] \tInternalPubSubGcsService.grpc_client.GcsSubscriberPoll - 4 total (1 active), CPU time: mean = 219.378 us, total = 877.511 us\n",
      "    [state-dump] \tInternalPubSubGcsService.grpc_client.GcsSubscriberCommandBatch - 2 total (0 active), CPU time: mean = 336.312 us, total = 672.624 us\n",
      "    [state-dump] \tJobInfoGcsService.grpc_client.GetAllJobInfo - 1 total (0 active), CPU time: mean = 14.721 us, total = 14.721 us\n",
      "    [state-dump] \tNodeInfoGcsService.grpc_client.GetInternalConfig - 1 total (0 active), CPU time: mean = 1.024 s, total = 1.024 s\n",
      "    [state-dump] \tNodeInfoGcsService.grpc_client.RegisterNode - 1 total (0 active), CPU time: mean = 567.147 us, total = 567.147 us\n",
      "    [state-dump] \tSubscriber.HandlePublishedMessage_GCS_JOB_CHANNEL - 1 total (0 active), CPU time: mean = 119.111 us, total = 119.111 us\n",
      "    [state-dump] \tAgentManagerService.grpc_server.RegisterAgent - 1 total (0 active), CPU time: mean = 477.960 us, total = 477.960 us\n",
      "    [state-dump] \tNodeInfoGcsService.grpc_client.GetAllNodeInfo - 1 total (0 active), CPU time: mean = 82.350 us, total = 82.350 us\n",
      "    [state-dump] \tJobInfoGcsService.grpc_client.AddJob - 1 total (0 active), CPU time: mean = 93.945 us, total = 93.945 us\n",
      "    [state-dump] DebugString() time ms: 1\n",
      "    [state-dump] \n",
      "    [state-dump] \n",
      "    [2022-11-24 13:45:53,507 I 10969 10969] (raylet) node_manager.cc:667: Sending Python GC request to 5 local workers to clean up Python cyclic references.\n",
      "\n",
      "\u001b[2m\u001b[33m(raylet)\u001b[0m [2022-11-24 13:45:55,160 E 10969 11025] (raylet) agent_manager.cc:134: The raylet exited immediately because the Ray agent failed. The raylet fate shares with the agent. This can happen because the Ray agent was unexpectedly killed or failed. See `dashboard_agent.log` for the root cause.\n",
      "2022-11-24 13:46:24,652\tWARNING worker.py:1839 -- The node with node id: 72b60f9696122e8fae6ae63a68e4cf4266e9c56f4831757e73535af8 and address: 10.0.2.15 and node name: 10.0.2.15 has been marked dead because the detector has missed too many heartbeats from it. This can happen when a \t(1) raylet crashes unexpectedly (OOM, preempted node, etc.) \n",
      "\t(2) raylet has lagging heartbeats due to slow network or busy workload.\n"
     ]
    }
   ],
   "source": [
    "cm = confusion_matrix(t_test, pred_ray)\n",
    "print('\\nTrue Positives(TP) = ', cm[0,0])\n",
    "print('\\nTrue Negatives(TN) = ', cm[1,1])\n",
    "print('\\nFalse Positives(FP) = ', cm[0,1])\n",
    "print('\\nFalse Negatives(FN) = ', cm[1,0])"
   ]
  },
  {
   "cell_type": "code",
   "execution_count": null,
   "id": "04dfcc8e",
   "metadata": {},
   "outputs": [],
   "source": []
  }
 ],
 "metadata": {
  "kernelspec": {
   "display_name": "Python 3 (ipykernel)",
   "language": "python",
   "name": "python3"
  },
  "language_info": {
   "codemirror_mode": {
    "name": "ipython",
    "version": 3
   },
   "file_extension": ".py",
   "mimetype": "text/x-python",
   "name": "python",
   "nbconvert_exporter": "python",
   "pygments_lexer": "ipython3",
   "version": "3.10.6"
  }
 },
 "nbformat": 4,
 "nbformat_minor": 5
}
