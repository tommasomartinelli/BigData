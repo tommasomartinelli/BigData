{
 "cells": [
  {
   "cell_type": "code",
   "execution_count": 24,
   "id": "17a9af71",
   "metadata": {},
   "outputs": [],
   "source": [
    "import ray\n",
    "import os\n",
    "from pyhdfs import HdfsClient\n",
    "import pandas as pd\n",
    "from sklearn.model_selection import train_test_split\n",
    "from xgboost_ray import RayXGBRFRegressor\n",
    "from sklearn.preprocessing import MinMaxScaler\n",
    "import numpy as np\n",
    "from sklearn.model_selection import RandomizedSearchCV\n",
    "from sklearn.model_selection import KFold"
   ]
  },
  {
   "cell_type": "code",
   "execution_count": 2,
   "id": "e1bd3ca3",
   "metadata": {},
   "outputs": [],
   "source": [
    "nodes = [\"127.0.0.1\"]\n",
    "client = HdfsClient(hosts=nodes, user_name=\"bigdata2022-VirtualBox\")\n",
    "df=pd.read_csv(client.open(\"hdfs://localhost:9870/user/bigdata2022/datasets/big_data_project/taxi_dataset_EDA.csv\"))"
   ]
  },
  {
   "cell_type": "code",
   "execution_count": 3,
   "id": "2d22e568",
   "metadata": {},
   "outputs": [],
   "source": [
    "df.head()\n",
    "seed=42"
   ]
  },
  {
   "cell_type": "code",
   "execution_count": 4,
   "id": "a11a66b1",
   "metadata": {},
   "outputs": [],
   "source": [
    "X = df.drop(['trip_duration'], axis=1)\n",
    "t = df['trip_duration']"
   ]
  },
  {
   "cell_type": "code",
   "execution_count": 5,
   "id": "f4b9ce32",
   "metadata": {},
   "outputs": [],
   "source": [
    "X_train, X_test, t_train, t_test = train_test_split(X, t, train_size=0.75, random_state=seed)"
   ]
  },
  {
   "cell_type": "code",
   "execution_count": null,
   "id": "f22932b4",
   "metadata": {},
   "outputs": [],
   "source": [
    "start_time=time.time()"
   ]
  },
  {
   "cell_type": "code",
   "execution_count": 6,
   "id": "7514ed3b",
   "metadata": {},
   "outputs": [],
   "source": [
    "model = RayXGBRFRegressor(n_jobs=4, random_state=seed)"
   ]
  },
  {
   "cell_type": "code",
   "execution_count": 9,
   "id": "0004128e",
   "metadata": {},
   "outputs": [],
   "source": [
    "scaler = MinMaxScaler()\n",
    "X_train = scaler.fit_transform(X_train)\n",
    "X_test = scaler.transform(X_test)"
   ]
  },
  {
   "cell_type": "code",
   "execution_count": 21,
   "id": "18ce6a99",
   "metadata": {},
   "outputs": [],
   "source": [
    "param_grid = {'max_depth': [3, 4, 5, 6, 7, 8, 9, 10, 11, 12],\n",
    "              'min_child_weight': np.arange(0.0001, 0.5, 0.001),\n",
    "              'gamma': np.arange(0.0,40.0,0.005),\n",
    "              'learning_rate': np.arange(0.0005,0.3,0.0005),\n",
    "              'subsample': np.arange(0.01,1.0,0.01),\n",
    "              'colsample_bylevel': np.round(np.arange(0.1,1.0,0.01)),\n",
    "              'colsample_bytree': np.arange(0.1,1.0,0.01)}"
   ]
  },
  {
   "cell_type": "code",
   "execution_count": 26,
   "id": "155cf54b",
   "metadata": {},
   "outputs": [],
   "source": [
    "kfold = KFold(n_splits=4, shuffle=True, random_state=10)\n",
    "grid_search = GridSearchCV(model, param_grid, scoring=\"accuracy\", cv=5)"
   ]
  },
  {
   "cell_type": "code",
   "execution_count": null,
   "id": "c68bdf59",
   "metadata": {},
   "outputs": [
    {
     "name": "stderr",
     "output_type": "stream",
     "text": [
      "2022-11-21 22:31:40,026\tINFO worker.py:1519 -- Started a local Ray instance. View the dashboard at \u001b[1m\u001b[32m127.0.0.1:8265 \u001b[39m\u001b[22m\n"
     ]
    }
   ],
   "source": [
    "grid_result = grid_search.fit(X_train,t_train)"
   ]
  },
  {
   "cell_type": "code",
   "execution_count": 14,
   "id": "e6595e80",
   "metadata": {},
   "outputs": [],
   "source": [
    "print(\"Best: %f using %s\" % (grid_result.best_score_, grid_result.best_params_))"
   ]
  },
  {
   "cell_type": "code",
   "execution_count": null,
   "id": "669f4f7e",
   "metadata": {},
   "outputs": [],
   "source": [
    "print(time.time()-start_time)"
   ]
  }
 ],
 "metadata": {
  "kernelspec": {
   "display_name": "Python 3 (ipykernel)",
   "language": "python",
   "name": "python3"
  },
  "language_info": {
   "codemirror_mode": {
    "name": "ipython",
    "version": 3
   },
   "file_extension": ".py",
   "mimetype": "text/x-python",
   "name": "python",
   "nbconvert_exporter": "python",
   "pygments_lexer": "ipython3",
   "version": "3.10.6"
  }
 },
 "nbformat": 4,
 "nbformat_minor": 5
}
