{
 "cells": [
  {
   "cell_type": "code",
   "execution_count": 1,
   "id": "5d77474b",
   "metadata": {},
   "outputs": [],
   "source": [
    "import ray\n",
    "import os\n",
    "import time\n",
    "from ray import tune\n",
    "from pyhdfs import HdfsClient\n",
    "import pandas as pd\n",
    "from sklearn.model_selection import train_test_split\n",
    "from xgboost_ray import RayDMatrix, RayParams, train, RayXGBRFClassifier\n",
    "from sklearn.preprocessing import MinMaxScaler, StandardScaler\n",
    "import numpy as np\n",
    "from sklearn.model_selection import RandomizedSearchCV\n",
    "from sklearn.model_selection import GridSearchCV\n",
    "from sklearn.model_selection import KFold\n",
    "import seaborn as sns\n",
    "import pickle\n",
    "from matplotlib import pyplot as plt\n",
    "from sklearn.metrics import accuracy_score, confusion_matrix, recall_score, roc_auc_score, precision_score, f1_score, classification_report"
   ]
  },
  {
   "cell_type": "code",
   "execution_count": 2,
   "id": "b8148b14",
   "metadata": {
    "scrolled": false
   },
   "outputs": [
    {
     "name": "stderr",
     "output_type": "stream",
     "text": [
      "2022-12-09 15:25:20,876\tINFO worker.py:1519 -- Started a local Ray instance. View the dashboard at \u001b[1m\u001b[32m127.0.0.1:8265 \u001b[39m\u001b[22m\n"
     ]
    },
    {
     "data": {
      "text/html": [
       "<div>\n",
       "    <div style=\"margin-left: 50px;display: flex;flex-direction: row;align-items: center\">\n",
       "        <h3 style=\"color: var(--jp-ui-font-color0)\">Ray</h3>\n",
       "        <svg version=\"1.1\" id=\"ray\" width=\"3em\" viewBox=\"0 0 144.5 144.6\" style=\"margin-left: 3em;margin-right: 3em\">\n",
       "            <g id=\"layer-1\">\n",
       "                <path fill=\"#00a2e9\" class=\"st0\" d=\"M97.3,77.2c-3.8-1.1-6.2,0.9-8.3,5.1c-3.5,6.8-9.9,9.9-17.4,9.6S58,88.1,54.8,81.2c-1.4-3-3-4-6.3-4.1\n",
       "                    c-5.6-0.1-9.9,0.1-13.1,6.4c-3.8,7.6-13.6,10.2-21.8,7.6C5.2,88.4-0.4,80.5,0,71.7c0.1-8.4,5.7-15.8,13.8-18.2\n",
       "                    c8.4-2.6,17.5,0.7,22.3,8c1.3,1.9,1.3,5.2,3.6,5.6c3.9,0.6,8,0.2,12,0.2c1.8,0,1.9-1.6,2.4-2.8c3.5-7.8,9.7-11.8,18-11.9\n",
       "                    c8.2-0.1,14.4,3.9,17.8,11.4c1.3,2.8,2.9,3.6,5.7,3.3c1-0.1,2,0.1,3,0c2.8-0.5,6.4,1.7,8.1-2.7s-2.3-5.5-4.1-7.5\n",
       "                    c-5.1-5.7-10.9-10.8-16.1-16.3C84,38,81.9,37.1,78,38.3C66.7,42,56.2,35.7,53,24.1C50.3,14,57.3,2.8,67.7,0.5\n",
       "                    C78.4-2,89,4.7,91.5,15.3c0.1,0.3,0.1,0.5,0.2,0.8c0.7,3.4,0.7,6.9-0.8,9.8c-1.7,3.2-0.8,5,1.5,7.2c6.7,6.5,13.3,13,19.8,19.7\n",
       "                    c1.8,1.8,3,2.1,5.5,1.2c9.1-3.4,17.9-0.6,23.4,7c4.8,6.9,4.6,16.1-0.4,22.9c-5.4,7.2-14.2,9.9-23.1,6.5c-2.3-0.9-3.5-0.6-5.1,1.1\n",
       "                    c-6.7,6.9-13.6,13.7-20.5,20.4c-1.8,1.8-2.5,3.2-1.4,5.9c3.5,8.7,0.3,18.6-7.7,23.6c-7.9,5-18.2,3.8-24.8-2.9\n",
       "                    c-6.4-6.4-7.4-16.2-2.5-24.3c4.9-7.8,14.5-11,23.1-7.8c3,1.1,4.7,0.5,6.9-1.7C91.7,98.4,98,92.3,104.2,86c1.6-1.6,4.1-2.7,2.6-6.2\n",
       "                    c-1.4-3.3-3.8-2.5-6.2-2.6C99.8,77.2,98.9,77.2,97.3,77.2z M72.1,29.7c5.5,0.1,9.9-4.3,10-9.8c0-0.1,0-0.2,0-0.3\n",
       "                    C81.8,14,77,9.8,71.5,10.2c-5,0.3-9,4.2-9.3,9.2c-0.2,5.5,4,10.1,9.5,10.3C71.8,29.7,72,29.7,72.1,29.7z M72.3,62.3\n",
       "                    c-5.4-0.1-9.9,4.2-10.1,9.7c0,0.2,0,0.3,0,0.5c0.2,5.4,4.5,9.7,9.9,10c5.1,0.1,9.9-4.7,10.1-9.8c0.2-5.5-4-10-9.5-10.3\n",
       "                    C72.6,62.3,72.4,62.3,72.3,62.3z M115,72.5c0.1,5.4,4.5,9.7,9.8,9.9c5.6-0.2,10-4.8,10-10.4c-0.2-5.4-4.6-9.7-10-9.7\n",
       "                    c-5.3-0.1-9.8,4.2-9.9,9.5C115,72.1,115,72.3,115,72.5z M19.5,62.3c-5.4,0.1-9.8,4.4-10,9.8c-0.1,5.1,5.2,10.4,10.2,10.3\n",
       "                    c5.6-0.2,10-4.9,9.8-10.5c-0.1-5.4-4.5-9.7-9.9-9.6C19.6,62.3,19.5,62.3,19.5,62.3z M71.8,134.6c5.9,0.2,10.3-3.9,10.4-9.6\n",
       "                    c0.5-5.5-3.6-10.4-9.1-10.8c-5.5-0.5-10.4,3.6-10.8,9.1c0,0.5,0,0.9,0,1.4c-0.2,5.3,4,9.8,9.3,10\n",
       "                    C71.6,134.6,71.7,134.6,71.8,134.6z\"/>\n",
       "            </g>\n",
       "        </svg>\n",
       "        <table>\n",
       "            <tr>\n",
       "                <td style=\"text-align: left\"><b>Python version:</b></td>\n",
       "                <td style=\"text-align: left\"><b>3.10.6</b></td>\n",
       "            </tr>\n",
       "            <tr>\n",
       "                <td style=\"text-align: left\"><b>Ray version:</b></td>\n",
       "                <td style=\"text-align: left\"><b> 2.1.0</b></td>\n",
       "            </tr>\n",
       "            <tr>\n",
       "    <td style=\"text-align: left\"><b>Dashboard:</b></td>\n",
       "    <td style=\"text-align: left\"><b><a href=\"http://127.0.0.1:8265\" target=\"_blank\">http://127.0.0.1:8265</a></b></td>\n",
       "</tr>\n",
       "\n",
       "        </table>\n",
       "    </div>\n",
       "</div>\n"
      ],
      "text/plain": [
       "RayContext(dashboard_url='127.0.0.1:8265', python_version='3.10.6', ray_version='2.1.0', ray_commit='be49bde7ee4f6adb3f8710aee0665c27f9f0bb62', address_info={'node_ip_address': '10.0.2.15', 'raylet_ip_address': '10.0.2.15', 'redis_address': None, 'object_store_address': '/tmp/ray/session_2022-12-09_15-25-16_988702_65821/sockets/plasma_store', 'raylet_socket_name': '/tmp/ray/session_2022-12-09_15-25-16_988702_65821/sockets/raylet', 'webui_url': '127.0.0.1:8265', 'session_dir': '/tmp/ray/session_2022-12-09_15-25-16_988702_65821', 'metrics_export_port': 63883, 'gcs_address': '10.0.2.15:42801', 'address': '10.0.2.15:42801', 'dashboard_agent_listen_port': 52365, 'node_id': 'd3f2f62180f35265ace405acd533cfc4d69e881db824add207e77922'})"
      ]
     },
     "execution_count": 2,
     "metadata": {},
     "output_type": "execute_result"
    }
   ],
   "source": [
    "ray.shutdown()\n",
    "ray.init()"
   ]
  },
  {
   "cell_type": "markdown",
   "id": "1aca616f",
   "metadata": {},
   "source": [
    "**Read dataset from HDFS**"
   ]
  },
  {
   "cell_type": "code",
   "execution_count": 3,
   "id": "d7644c00",
   "metadata": {},
   "outputs": [],
   "source": [
    "nodes = [\"127.0.0.1\"]\n",
    "client = HdfsClient(hosts=nodes, user_name=\"bigdata2022-VirtualBox\")\n",
    "df=pd.read_csv(client.open(\"hdfs://localhost:9870/user/bigdata2022/datasets/Australia1.csv\"))"
   ]
  },
  {
   "cell_type": "code",
   "execution_count": 4,
   "id": "18427647",
   "metadata": {
    "scrolled": true
   },
   "outputs": [
    {
     "name": "stdout",
     "output_type": "stream",
     "text": [
      "   MinTemp  MaxTemp  Rainfall  Evaporation  Sunshine  WindGustSpeed  \\\n",
      "0     13.4     22.9       0.6     5.472516       8.5           44.0   \n",
      "1      7.4     25.1       0.0     5.472516       8.5           44.0   \n",
      "2     12.9     25.7       0.0     5.472516       8.5           46.0   \n",
      "3      9.2     28.0       0.0     5.472516       8.5           24.0   \n",
      "4     17.5     32.3       1.0     5.472516       8.5           41.0   \n",
      "\n",
      "   WindSpeed9am  WindSpeed3pm  Humidity9am  Humidity3pm  ...  WindDir3pm_NNW  \\\n",
      "0          20.0          24.0         71.0         22.0  ...               0   \n",
      "1           4.0          22.0         44.0         25.0  ...               0   \n",
      "2          19.0          26.0         38.0         30.0  ...               0   \n",
      "3          11.0           9.0         45.0         16.0  ...               0   \n",
      "4           7.0          20.0         82.0         33.0  ...               0   \n",
      "\n",
      "   WindDir3pm_NW  WindDir3pm_S  WindDir3pm_SE  WindDir3pm_SSE  WindDir3pm_SSW  \\\n",
      "0              0             0              0               0               0   \n",
      "1              0             0              0               0               0   \n",
      "2              0             0              0               0               0   \n",
      "3              0             0              0               0               0   \n",
      "4              1             0              0               0               0   \n",
      "\n",
      "   WindDir3pm_SW  WindDir3pm_W  WindDir3pm_WNW  WindDir3pm_WSW  \n",
      "0              0             0               1               0  \n",
      "1              0             0               0               1  \n",
      "2              0             0               0               1  \n",
      "3              0             0               0               0  \n",
      "4              0             0               0               0  \n",
      "\n",
      "[5 rows x 94 columns]\n"
     ]
    }
   ],
   "source": [
    "print(df.head())\n",
    "seed=42"
   ]
  },
  {
   "cell_type": "markdown",
   "id": "6488d2b5",
   "metadata": {},
   "source": [
    "**Split the dataset**"
   ]
  },
  {
   "cell_type": "code",
   "execution_count": 5,
   "id": "d1543fe3",
   "metadata": {},
   "outputs": [],
   "source": [
    "X = df.drop(['RainTomorrow'], axis=1)\n",
    "t = df['RainTomorrow']\n"
   ]
  },
  {
   "cell_type": "code",
   "execution_count": 6,
   "id": "2e26df08",
   "metadata": {},
   "outputs": [
    {
     "name": "stdout",
     "output_type": "stream",
     "text": [
      "48234    0.0\n",
      "27698    0.0\n",
      "25146    0.0\n",
      "28586    0.0\n",
      "26603    0.0\n",
      "Name: RainTomorrow, dtype: float64\n"
     ]
    }
   ],
   "source": [
    "X_train, X_test, t_train, t_test = train_test_split(X, t, train_size=0.75)\n",
    "print(t_test.head())"
   ]
  },
  {
   "cell_type": "code",
   "execution_count": 7,
   "id": "f5e2895f",
   "metadata": {},
   "outputs": [],
   "source": [
    "start_time=time.time()"
   ]
  },
  {
   "cell_type": "code",
   "execution_count": 8,
   "id": "3371bd93",
   "metadata": {},
   "outputs": [],
   "source": [
    "scaler = MinMaxScaler()\n",
    "X_train = scaler.fit_transform(X_train)\n",
    "X_test = scaler.transform(X_test)"
   ]
  },
  {
   "cell_type": "markdown",
   "id": "acccc4ca",
   "metadata": {},
   "source": [
    "**Set parameters**"
   ]
  },
  {
   "cell_type": "code",
   "execution_count": 9,
   "id": "1e70eaae",
   "metadata": {},
   "outputs": [],
   "source": [
    "ray_param = RayParams(\n",
    "                      num_actors=4,\n",
    "                      cpus_per_actor=1\n",
    "                   ) "
   ]
  },
  {
   "cell_type": "markdown",
   "id": "a1696cda",
   "metadata": {},
   "source": [
    "**Model selection**"
   ]
  },
  {
   "cell_type": "code",
   "execution_count": 10,
   "id": "5f32f169",
   "metadata": {},
   "outputs": [],
   "source": [
    "#model = RayXGBRFClassifier(n_jobs=4,\n",
    " #                          random_state=seed)"
   ]
  },
  {
   "cell_type": "code",
   "execution_count": 11,
   "id": "2e093736",
   "metadata": {},
   "outputs": [],
   "source": [
    "#param_grid = {'max_depth': [3, 4, 5, 6, 7, 8, 9, 10, 11, 12],\n",
    " #            'min_child_weight': np.arange(0.0001, 0.5, 0.001),\n",
    "  #           'gamma': np.arange(0.0,40.0,0.005),\n",
    "   #          'learning_rate': np.arange(0.0005,0.3,0.0005),\n",
    "    #         'subsample': np.arange(0.01,1.0,0.01),\n",
    "     #        'colsample_bylevel': np.round(np.arange(0.1,1.0,0.01)),\n",
    "      #       'colsample_bytree': np.arange(0.1,1.0,0.01)\n",
    "       #     } "
   ]
  },
  {
   "cell_type": "code",
   "execution_count": 12,
   "id": "957d75e4",
   "metadata": {},
   "outputs": [],
   "source": [
    "#grid_search = RandomizedSearchCV(model, param_grid, cv=5, scoring=\"f1\")\n",
    "#grid_result = grid_search.fit(X_train,t_train)"
   ]
  },
  {
   "cell_type": "code",
   "execution_count": 13,
   "id": "ace46456",
   "metadata": {},
   "outputs": [],
   "source": [
    "#print(\"Best: %f using %s\" % (grid_result.best_score_, grid_result.best_params_))"
   ]
  },
  {
   "cell_type": "markdown",
   "id": "e0ab7daa",
   "metadata": {},
   "source": [
    "**Training**"
   ]
  },
  {
   "cell_type": "code",
   "execution_count": 14,
   "id": "d91c141c",
   "metadata": {},
   "outputs": [],
   "source": [
    "model = RayXGBRFClassifier(n_jobs=4,\n",
    "                           random_state=seed,\n",
    "                           subsample=0.98, \n",
    "                           min_child_weight= 0.2671,\n",
    "                           max_depth=7,\n",
    "                           learning_rate= 0.2255, \n",
    "                           gamma=8.865, \n",
    "                           colsample_bytree=0.7499999999999996,\n",
    "                           colsample_bylevel=1.0)"
   ]
  },
  {
   "cell_type": "code",
   "execution_count": 15,
   "id": "e5cfd043",
   "metadata": {},
   "outputs": [
    {
     "name": "stderr",
     "output_type": "stream",
     "text": [
      "/home/bigdata2022/.local/lib/python3.10/site-packages/xgboost_ray/sklearn.py:307: UserWarning: `ray_params` is not `None` and will override the `n_jobs` attribute.\n",
      "  warnings.warn(\"`ray_params` is not `None` and will override \"\n",
      "2022-12-09 15:25:27,479\tINFO main.py:1035 -- [RayXGBoost] Created 4 new actors (4 total actors). Waiting until actors are ready for training.\n",
      "2022-12-09 15:25:33,813\tINFO main.py:1080 -- [RayXGBoost] Starting XGBoost training.\n",
      "\u001b[2m\u001b[36m(_RemoteRayXGBoostActor pid=66180)\u001b[0m [15:25:34] task [xgboost.ray]:139765454596384 got new rank 0\n",
      "\u001b[2m\u001b[36m(_RemoteRayXGBoostActor pid=66181)\u001b[0m [15:25:34] task [xgboost.ray]:140145285451296 got new rank 1\n",
      "\u001b[2m\u001b[36m(_RemoteRayXGBoostActor pid=66235)\u001b[0m [15:25:34] task [xgboost.ray]:139872615792352 got new rank 2\n",
      "\u001b[2m\u001b[36m(_RemoteRayXGBoostActor pid=66251)\u001b[0m [15:25:34] task [xgboost.ray]:140500360593120 got new rank 3\n",
      "2022-12-09 15:25:53,676\tINFO main.py:1575 -- [RayXGBoost] Finished XGBoost training on training data with total N=104,904 in 27.09 seconds (19.82 pure XGBoost training time).\n"
     ]
    },
    {
     "data": {
      "text/html": [
       "<style>#sk-container-id-1 {color: black;background-color: white;}#sk-container-id-1 pre{padding: 0;}#sk-container-id-1 div.sk-toggleable {background-color: white;}#sk-container-id-1 label.sk-toggleable__label {cursor: pointer;display: block;width: 100%;margin-bottom: 0;padding: 0.3em;box-sizing: border-box;text-align: center;}#sk-container-id-1 label.sk-toggleable__label-arrow:before {content: \"▸\";float: left;margin-right: 0.25em;color: #696969;}#sk-container-id-1 label.sk-toggleable__label-arrow:hover:before {color: black;}#sk-container-id-1 div.sk-estimator:hover label.sk-toggleable__label-arrow:before {color: black;}#sk-container-id-1 div.sk-toggleable__content {max-height: 0;max-width: 0;overflow: hidden;text-align: left;background-color: #f0f8ff;}#sk-container-id-1 div.sk-toggleable__content pre {margin: 0.2em;color: black;border-radius: 0.25em;background-color: #f0f8ff;}#sk-container-id-1 input.sk-toggleable__control:checked~div.sk-toggleable__content {max-height: 200px;max-width: 100%;overflow: auto;}#sk-container-id-1 input.sk-toggleable__control:checked~label.sk-toggleable__label-arrow:before {content: \"▾\";}#sk-container-id-1 div.sk-estimator input.sk-toggleable__control:checked~label.sk-toggleable__label {background-color: #d4ebff;}#sk-container-id-1 div.sk-label input.sk-toggleable__control:checked~label.sk-toggleable__label {background-color: #d4ebff;}#sk-container-id-1 input.sk-hidden--visually {border: 0;clip: rect(1px 1px 1px 1px);clip: rect(1px, 1px, 1px, 1px);height: 1px;margin: -1px;overflow: hidden;padding: 0;position: absolute;width: 1px;}#sk-container-id-1 div.sk-estimator {font-family: monospace;background-color: #f0f8ff;border: 1px dotted black;border-radius: 0.25em;box-sizing: border-box;margin-bottom: 0.5em;}#sk-container-id-1 div.sk-estimator:hover {background-color: #d4ebff;}#sk-container-id-1 div.sk-parallel-item::after {content: \"\";width: 100%;border-bottom: 1px solid gray;flex-grow: 1;}#sk-container-id-1 div.sk-label:hover label.sk-toggleable__label {background-color: #d4ebff;}#sk-container-id-1 div.sk-serial::before {content: \"\";position: absolute;border-left: 1px solid gray;box-sizing: border-box;top: 0;bottom: 0;left: 50%;z-index: 0;}#sk-container-id-1 div.sk-serial {display: flex;flex-direction: column;align-items: center;background-color: white;padding-right: 0.2em;padding-left: 0.2em;position: relative;}#sk-container-id-1 div.sk-item {position: relative;z-index: 1;}#sk-container-id-1 div.sk-parallel {display: flex;align-items: stretch;justify-content: center;background-color: white;position: relative;}#sk-container-id-1 div.sk-item::before, #sk-container-id-1 div.sk-parallel-item::before {content: \"\";position: absolute;border-left: 1px solid gray;box-sizing: border-box;top: 0;bottom: 0;left: 50%;z-index: -1;}#sk-container-id-1 div.sk-parallel-item {display: flex;flex-direction: column;z-index: 1;position: relative;background-color: white;}#sk-container-id-1 div.sk-parallel-item:first-child::after {align-self: flex-end;width: 50%;}#sk-container-id-1 div.sk-parallel-item:last-child::after {align-self: flex-start;width: 50%;}#sk-container-id-1 div.sk-parallel-item:only-child::after {width: 0;}#sk-container-id-1 div.sk-dashed-wrapped {border: 1px dashed gray;margin: 0 0.4em 0.5em 0.4em;box-sizing: border-box;padding-bottom: 0.4em;background-color: white;}#sk-container-id-1 div.sk-label label {font-family: monospace;font-weight: bold;display: inline-block;line-height: 1.2em;}#sk-container-id-1 div.sk-label-container {text-align: center;}#sk-container-id-1 div.sk-container {/* jupyter's `normalize.less` sets `[hidden] { display: none; }` but bootstrap.min.css set `[hidden] { display: none !important; }` so we also need the `!important` here to be able to override the default hidden behavior on the sphinx rendered scikit-learn.org. See: https://github.com/scikit-learn/scikit-learn/issues/21755 */display: inline-block !important;position: relative;}#sk-container-id-1 div.sk-text-repr-fallback {display: none;}</style><div id=\"sk-container-id-1\" class=\"sk-top-container\"><div class=\"sk-text-repr-fallback\"><pre>RayXGBRFClassifier(base_score=0.5, booster=&#x27;gbtree&#x27;, callbacks=None,\n",
       "                   colsample_bylevel=1.0, colsample_bytree=0.7499999999999996,\n",
       "                   early_stopping_rounds=None, enable_categorical=False,\n",
       "                   eval_metric=None, feature_types=None, gamma=8.865, gpu_id=-1,\n",
       "                   grow_policy=&#x27;depthwise&#x27;, importance_type=None,\n",
       "                   interaction_constraints=&#x27;&#x27;, learning_rate=0.2255,\n",
       "                   max_bin=256, max_cat_threshold=64, max_cat_to_onehot=4,\n",
       "                   max_delta_step=0, max_depth=7, max_leaves=0,\n",
       "                   min_child_weight=0.2671, missing=nan,\n",
       "                   monotone_constraints=&#x27;()&#x27;, n_estimators=100, n_jobs=4,\n",
       "                   num_parallel_tree=100, objective=&#x27;binary:logistic&#x27;,\n",
       "                   predictor=&#x27;auto&#x27;, random_state=42, ...)</pre><b>In a Jupyter environment, please rerun this cell to show the HTML representation or trust the notebook. <br />On GitHub, the HTML representation is unable to render, please try loading this page with nbviewer.org.</b></div><div class=\"sk-container\" hidden><div class=\"sk-item\"><div class=\"sk-estimator sk-toggleable\"><input class=\"sk-toggleable__control sk-hidden--visually\" id=\"sk-estimator-id-1\" type=\"checkbox\" checked><label for=\"sk-estimator-id-1\" class=\"sk-toggleable__label sk-toggleable__label-arrow\">RayXGBRFClassifier</label><div class=\"sk-toggleable__content\"><pre>RayXGBRFClassifier(base_score=0.5, booster=&#x27;gbtree&#x27;, callbacks=None,\n",
       "                   colsample_bylevel=1.0, colsample_bytree=0.7499999999999996,\n",
       "                   early_stopping_rounds=None, enable_categorical=False,\n",
       "                   eval_metric=None, feature_types=None, gamma=8.865, gpu_id=-1,\n",
       "                   grow_policy=&#x27;depthwise&#x27;, importance_type=None,\n",
       "                   interaction_constraints=&#x27;&#x27;, learning_rate=0.2255,\n",
       "                   max_bin=256, max_cat_threshold=64, max_cat_to_onehot=4,\n",
       "                   max_delta_step=0, max_depth=7, max_leaves=0,\n",
       "                   min_child_weight=0.2671, missing=nan,\n",
       "                   monotone_constraints=&#x27;()&#x27;, n_estimators=100, n_jobs=4,\n",
       "                   num_parallel_tree=100, objective=&#x27;binary:logistic&#x27;,\n",
       "                   predictor=&#x27;auto&#x27;, random_state=42, ...)</pre></div></div></div></div></div>"
      ],
      "text/plain": [
       "RayXGBRFClassifier(base_score=0.5, booster='gbtree', callbacks=None,\n",
       "                   colsample_bylevel=1.0, colsample_bytree=0.7499999999999996,\n",
       "                   early_stopping_rounds=None, enable_categorical=False,\n",
       "                   eval_metric=None, feature_types=None, gamma=8.865, gpu_id=-1,\n",
       "                   grow_policy='depthwise', importance_type=None,\n",
       "                   interaction_constraints='', learning_rate=0.2255,\n",
       "                   max_bin=256, max_cat_threshold=64, max_cat_to_onehot=4,\n",
       "                   max_delta_step=0, max_depth=7, max_leaves=0,\n",
       "                   min_child_weight=0.2671, missing=nan,\n",
       "                   monotone_constraints='()', n_estimators=100, n_jobs=4,\n",
       "                   num_parallel_tree=100, objective='binary:logistic',\n",
       "                   predictor='auto', random_state=42, ...)"
      ]
     },
     "execution_count": 15,
     "metadata": {},
     "output_type": "execute_result"
    }
   ],
   "source": [
    "model.fit(X_train,t_train, ray_params=ray_param)"
   ]
  },
  {
   "cell_type": "markdown",
   "id": "6a802895",
   "metadata": {},
   "source": [
    "**Test**"
   ]
  },
  {
   "cell_type": "code",
   "execution_count": 16,
   "id": "b38b5272",
   "metadata": {},
   "outputs": [
    {
     "name": "stderr",
     "output_type": "stream",
     "text": [
      "2022-12-09 15:25:53,934\tINFO main.py:1620 -- [RayXGBoost] Created 4 remote actors.\n",
      "2022-12-09 15:25:58,084\tINFO main.py:1637 -- [RayXGBoost] Starting XGBoost prediction.\n"
     ]
    }
   ],
   "source": [
    "t_hat=model.predict(X_test)"
   ]
  },
  {
   "cell_type": "code",
   "execution_count": 17,
   "id": "17121cc9",
   "metadata": {},
   "outputs": [
    {
     "name": "stderr",
     "output_type": "stream",
     "text": [
      "2022-12-09 15:25:58,945\tINFO main.py:1620 -- [RayXGBoost] Created 4 remote actors.\n",
      "2022-12-09 15:26:03,738\tINFO main.py:1637 -- [RayXGBoost] Starting XGBoost prediction.\n"
     ]
    }
   ],
   "source": [
    "t_hat_score = model.predict_proba(X_test)"
   ]
  },
  {
   "cell_type": "markdown",
   "id": "5108a007",
   "metadata": {},
   "source": [
    "**Model evaluation**"
   ]
  },
  {
   "cell_type": "code",
   "execution_count": 18,
   "id": "39aa1bb5",
   "metadata": {},
   "outputs": [
    {
     "name": "stdout",
     "output_type": "stream",
     "text": [
      "Test-set accuracy score: 0.8432\n",
      "              precision    recall  f1-score   support\n",
      "\n",
      "         0.0       0.86      0.96      0.91     27302\n",
      "         1.0       0.75      0.43      0.55      7666\n",
      "\n",
      "    accuracy                           0.84     34968\n",
      "   macro avg       0.80      0.69      0.73     34968\n",
      "weighted avg       0.83      0.84      0.83     34968\n",
      "\n"
     ]
    }
   ],
   "source": [
    "print('Test-set accuracy score: {0:0.4f}'. format(accuracy_score(t_test, t_hat)))\n",
    "print(classification_report(t_test,t_hat))"
   ]
  },
  {
   "cell_type": "code",
   "execution_count": 19,
   "id": "0e9b9926",
   "metadata": {},
   "outputs": [
    {
     "data": {
      "image/png": "[encoded data removed]",
      "text/plain": [
       "<Figure size 640x480 with 2 Axes>"
      ]
     },
     "metadata": {},
     "output_type": "display_data"
    }
   ],
   "source": [
    "ax = plt.axes()\n",
    "cm = confusion_matrix(t_test, t_hat)\n",
    "sns.heatmap(cm, annot=True, fmt='d', ax=ax)\n",
    "ax.set_title('XGBRFC Confusion-Matrix')\n",
    "plt.show()"
   ]
  },
  {
   "cell_type": "code",
   "execution_count": 20,
   "id": "ca9cf74b",
   "metadata": {},
   "outputs": [
    {
     "name": "stdout",
     "output_type": "stream",
     "text": [
      "38.943668365478516\n"
     ]
    }
   ],
   "source": [
    "print(time.time()-start_time)"
   ]
  },
  {
   "cell_type": "code",
   "execution_count": null,
   "id": "c755a888",
   "metadata": {},
   "outputs": [],
   "source": []
  }
 ],
 "metadata": {
  "kernelspec": {
   "display_name": "Python 3 (ipykernel)",
   "language": "python",
   "name": "python3"
  },
  "language_info": {
   "codemirror_mode": {
    "name": "ipython",
    "version": 3
   },
   "file_extension": ".py",
   "mimetype": "text/x-python",
   "name": "python",
   "nbconvert_exporter": "python",
   "pygments_lexer": "ipython3",
   "version": "3.10.6"
  }
 },
 "nbformat": 4,
 "nbformat_minor": 5
}
